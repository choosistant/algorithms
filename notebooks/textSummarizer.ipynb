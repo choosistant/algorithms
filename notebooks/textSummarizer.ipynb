{
 "cells": [
  {
   "cell_type": "code",
   "execution_count": 1,
   "id": "10847d82",
   "metadata": {},
   "outputs": [],
   "source": [
    "import pandas as pd\n",
    "from simpletransformers.seq2seq import Seq2SeqModel,Seq2SeqArgs"
   ]
  },
  {
   "cell_type": "code",
   "execution_count": 2,
   "id": "f900b29a",
   "metadata": {},
   "outputs": [],
   "source": [
    "path = \"C:/Users/schami/Documents/FSDL/annotation-store/data/label-studio/export/project-1-at-2022-09-25-08-41-12f06b11.json\""
   ]
  },
  {
   "cell_type": "code",
   "execution_count": 3,
   "id": "5331b12b",
   "metadata": {},
   "outputs": [
    {
     "data": {
      "text/html": [
       "<div>\n",
       "<style scoped>\n",
       "    .dataframe tbody tr th:only-of-type {\n",
       "        vertical-align: middle;\n",
       "    }\n",
       "\n",
       "    .dataframe tbody tr th {\n",
       "        vertical-align: top;\n",
       "    }\n",
       "\n",
       "    .dataframe thead th {\n",
       "        text-align: right;\n",
       "    }\n",
       "</style>\n",
       "<table border=\"1\" class=\"dataframe\">\n",
       "  <thead>\n",
       "    <tr style=\"text-align: right;\">\n",
       "      <th></th>\n",
       "      <th>id</th>\n",
       "      <th>annotations</th>\n",
       "      <th>file_upload</th>\n",
       "      <th>drafts</th>\n",
       "      <th>predictions</th>\n",
       "      <th>data</th>\n",
       "      <th>meta</th>\n",
       "      <th>created_at</th>\n",
       "      <th>updated_at</th>\n",
       "      <th>inner_id</th>\n",
       "      <th>total_annotations</th>\n",
       "      <th>cancelled_annotations</th>\n",
       "      <th>total_predictions</th>\n",
       "      <th>project</th>\n",
       "      <th>updated_by</th>\n",
       "    </tr>\n",
       "  </thead>\n",
       "  <tbody>\n",
       "    <tr>\n",
       "      <th>0</th>\n",
       "      <td>104</td>\n",
       "      <td>[{'id': 126, 'completed_by': 4, 'result': [{'v...</td>\n",
       "      <td>1652f625-reviews_Luxury_Beauty-5679.json</td>\n",
       "      <td>[]</td>\n",
       "      <td>[]</td>\n",
       "      <td>{'index': 5679, 'reviewerID': 'A11ZJBISQR1EPZ'...</td>\n",
       "      <td>{}</td>\n",
       "      <td>2022-09-22 15:03:40.342468+00:00</td>\n",
       "      <td>2022-09-22 15:21:41.931141+00:00</td>\n",
       "      <td>104</td>\n",
       "      <td>1</td>\n",
       "      <td>0</td>\n",
       "      <td>0</td>\n",
       "      <td>1</td>\n",
       "      <td>4</td>\n",
       "    </tr>\n",
       "    <tr>\n",
       "      <th>1</th>\n",
       "      <td>103</td>\n",
       "      <td>[{'id': 125, 'completed_by': 4, 'result': [{'v...</td>\n",
       "      <td>30c909b7-reviews_Luxury_Beauty-5678.json</td>\n",
       "      <td>[]</td>\n",
       "      <td>[]</td>\n",
       "      <td>{'index': 5678, 'reviewerID': 'A3TO8UPZC7C3AT'...</td>\n",
       "      <td>{}</td>\n",
       "      <td>2022-09-22 15:03:40.342262+00:00</td>\n",
       "      <td>2022-09-22 15:20:44.631128+00:00</td>\n",
       "      <td>103</td>\n",
       "      <td>1</td>\n",
       "      <td>0</td>\n",
       "      <td>0</td>\n",
       "      <td>1</td>\n",
       "      <td>4</td>\n",
       "    </tr>\n",
       "    <tr>\n",
       "      <th>2</th>\n",
       "      <td>102</td>\n",
       "      <td>[{'id': 124, 'completed_by': 4, 'result': [{'v...</td>\n",
       "      <td>f4817af9-reviews_Luxury_Beauty-5677.json</td>\n",
       "      <td>[]</td>\n",
       "      <td>[]</td>\n",
       "      <td>{'index': 5677, 'reviewerID': 'A3UVQ0KJ1U0BRM'...</td>\n",
       "      <td>{}</td>\n",
       "      <td>2022-09-22 15:03:40.341991+00:00</td>\n",
       "      <td>2022-09-22 15:20:23.122856+00:00</td>\n",
       "      <td>102</td>\n",
       "      <td>1</td>\n",
       "      <td>0</td>\n",
       "      <td>0</td>\n",
       "      <td>1</td>\n",
       "      <td>4</td>\n",
       "    </tr>\n",
       "    <tr>\n",
       "      <th>3</th>\n",
       "      <td>101</td>\n",
       "      <td>[{'id': 123, 'completed_by': 4, 'result': [{'v...</td>\n",
       "      <td>99778022-reviews_Luxury_Beauty-5676.json</td>\n",
       "      <td>[]</td>\n",
       "      <td>[]</td>\n",
       "      <td>{'index': 5676, 'reviewerID': 'A1S2IRG0BDFBFR'...</td>\n",
       "      <td>{}</td>\n",
       "      <td>2022-09-22 15:03:40.341743+00:00</td>\n",
       "      <td>2022-09-22 15:19:59.085338+00:00</td>\n",
       "      <td>101</td>\n",
       "      <td>1</td>\n",
       "      <td>0</td>\n",
       "      <td>0</td>\n",
       "      <td>1</td>\n",
       "      <td>4</td>\n",
       "    </tr>\n",
       "    <tr>\n",
       "      <th>4</th>\n",
       "      <td>100</td>\n",
       "      <td>[{'id': 122, 'completed_by': 4, 'result': [{'v...</td>\n",
       "      <td>5d720f57-reviews_Luxury_Beauty-5670.json</td>\n",
       "      <td>[]</td>\n",
       "      <td>[]</td>\n",
       "      <td>{'index': 5670, 'reviewerID': 'A1ZTG8SOKRVRGJ'...</td>\n",
       "      <td>{}</td>\n",
       "      <td>2022-09-22 15:03:40.341528+00:00</td>\n",
       "      <td>2022-09-22 15:19:17.592608+00:00</td>\n",
       "      <td>100</td>\n",
       "      <td>1</td>\n",
       "      <td>0</td>\n",
       "      <td>0</td>\n",
       "      <td>1</td>\n",
       "      <td>4</td>\n",
       "    </tr>\n",
       "    <tr>\n",
       "      <th>...</th>\n",
       "      <td>...</td>\n",
       "      <td>...</td>\n",
       "      <td>...</td>\n",
       "      <td>...</td>\n",
       "      <td>...</td>\n",
       "      <td>...</td>\n",
       "      <td>...</td>\n",
       "      <td>...</td>\n",
       "      <td>...</td>\n",
       "      <td>...</td>\n",
       "      <td>...</td>\n",
       "      <td>...</td>\n",
       "      <td>...</td>\n",
       "      <td>...</td>\n",
       "      <td>...</td>\n",
       "    </tr>\n",
       "    <tr>\n",
       "      <th>97</th>\n",
       "      <td>6</td>\n",
       "      <td>[{'id': 5, 'completed_by': 2, 'result': [{'val...</td>\n",
       "      <td>b7389549-reviews_Musical_Instruments_5-1858.json</td>\n",
       "      <td>[]</td>\n",
       "      <td>[]</td>\n",
       "      <td>{'index': 1858, 'reviewerID': 'A1NBZI880S5VXU'...</td>\n",
       "      <td>{}</td>\n",
       "      <td>2022-09-18 14:35:16.344801+00:00</td>\n",
       "      <td>2022-09-18 15:34:36.373834+00:00</td>\n",
       "      <td>6</td>\n",
       "      <td>1</td>\n",
       "      <td>0</td>\n",
       "      <td>0</td>\n",
       "      <td>1</td>\n",
       "      <td>2</td>\n",
       "    </tr>\n",
       "    <tr>\n",
       "      <th>98</th>\n",
       "      <td>5</td>\n",
       "      <td>[{'id': 4, 'completed_by': 2, 'result': [{'val...</td>\n",
       "      <td>4d199391-reviews_Musical_Instruments_5-1855.json</td>\n",
       "      <td>[{'id': 5, 'user': 'omar@choosistant.com', 'cr...</td>\n",
       "      <td>[]</td>\n",
       "      <td>{'index': 1855, 'reviewerID': 'A3FW4THIMBIN6V'...</td>\n",
       "      <td>{}</td>\n",
       "      <td>2022-09-18 14:35:16.344742+00:00</td>\n",
       "      <td>2022-09-18 14:53:23.627680+00:00</td>\n",
       "      <td>5</td>\n",
       "      <td>1</td>\n",
       "      <td>0</td>\n",
       "      <td>0</td>\n",
       "      <td>1</td>\n",
       "      <td>2</td>\n",
       "    </tr>\n",
       "    <tr>\n",
       "      <th>99</th>\n",
       "      <td>4</td>\n",
       "      <td>[{'id': 3, 'completed_by': 2, 'result': [{'val...</td>\n",
       "      <td>75fb4ee2-reviews_Musical_Instruments_5-1854.json</td>\n",
       "      <td>[]</td>\n",
       "      <td>[]</td>\n",
       "      <td>{'index': 1854, 'reviewerID': 'A34O0KQV4QXWNQ'...</td>\n",
       "      <td>{}</td>\n",
       "      <td>2022-09-18 14:35:16.344682+00:00</td>\n",
       "      <td>2022-09-18 14:49:51.072215+00:00</td>\n",
       "      <td>4</td>\n",
       "      <td>1</td>\n",
       "      <td>0</td>\n",
       "      <td>0</td>\n",
       "      <td>1</td>\n",
       "      <td>2</td>\n",
       "    </tr>\n",
       "    <tr>\n",
       "      <th>100</th>\n",
       "      <td>2</td>\n",
       "      <td>[{'id': 2, 'completed_by': 2, 'result': [], 'w...</td>\n",
       "      <td>e33af28c-reviews_Office_Products_5-6912.json</td>\n",
       "      <td>[]</td>\n",
       "      <td>[]</td>\n",
       "      <td>{'index': 6912, 'reviewerID': 'A2T4PF3X3MC0VC'...</td>\n",
       "      <td>{}</td>\n",
       "      <td>2022-09-18 14:25:48.275654+00:00</td>\n",
       "      <td>2022-09-18 14:35:52.526993+00:00</td>\n",
       "      <td>2</td>\n",
       "      <td>1</td>\n",
       "      <td>0</td>\n",
       "      <td>0</td>\n",
       "      <td>1</td>\n",
       "      <td>2</td>\n",
       "    </tr>\n",
       "    <tr>\n",
       "      <th>101</th>\n",
       "      <td>1</td>\n",
       "      <td>[{'id': 1, 'completed_by': 2, 'result': [{'val...</td>\n",
       "      <td>87a52141-reviews_Musical_Instruments_5-1852.json</td>\n",
       "      <td>[]</td>\n",
       "      <td>[]</td>\n",
       "      <td>{'index': 1852, 'reviewerID': 'A13A81NN0NRD1S'...</td>\n",
       "      <td>{}</td>\n",
       "      <td>2022-09-18 14:25:48.275578+00:00</td>\n",
       "      <td>2022-09-18 14:35:48.914367+00:00</td>\n",
       "      <td>1</td>\n",
       "      <td>1</td>\n",
       "      <td>0</td>\n",
       "      <td>0</td>\n",
       "      <td>1</td>\n",
       "      <td>2</td>\n",
       "    </tr>\n",
       "  </tbody>\n",
       "</table>\n",
       "<p>102 rows × 15 columns</p>\n",
       "</div>"
      ],
      "text/plain": [
       "      id                                        annotations  \\\n",
       "0    104  [{'id': 126, 'completed_by': 4, 'result': [{'v...   \n",
       "1    103  [{'id': 125, 'completed_by': 4, 'result': [{'v...   \n",
       "2    102  [{'id': 124, 'completed_by': 4, 'result': [{'v...   \n",
       "3    101  [{'id': 123, 'completed_by': 4, 'result': [{'v...   \n",
       "4    100  [{'id': 122, 'completed_by': 4, 'result': [{'v...   \n",
       "..   ...                                                ...   \n",
       "97     6  [{'id': 5, 'completed_by': 2, 'result': [{'val...   \n",
       "98     5  [{'id': 4, 'completed_by': 2, 'result': [{'val...   \n",
       "99     4  [{'id': 3, 'completed_by': 2, 'result': [{'val...   \n",
       "100    2  [{'id': 2, 'completed_by': 2, 'result': [], 'w...   \n",
       "101    1  [{'id': 1, 'completed_by': 2, 'result': [{'val...   \n",
       "\n",
       "                                          file_upload  \\\n",
       "0            1652f625-reviews_Luxury_Beauty-5679.json   \n",
       "1            30c909b7-reviews_Luxury_Beauty-5678.json   \n",
       "2            f4817af9-reviews_Luxury_Beauty-5677.json   \n",
       "3            99778022-reviews_Luxury_Beauty-5676.json   \n",
       "4            5d720f57-reviews_Luxury_Beauty-5670.json   \n",
       "..                                                ...   \n",
       "97   b7389549-reviews_Musical_Instruments_5-1858.json   \n",
       "98   4d199391-reviews_Musical_Instruments_5-1855.json   \n",
       "99   75fb4ee2-reviews_Musical_Instruments_5-1854.json   \n",
       "100      e33af28c-reviews_Office_Products_5-6912.json   \n",
       "101  87a52141-reviews_Musical_Instruments_5-1852.json   \n",
       "\n",
       "                                                drafts predictions  \\\n",
       "0                                                   []          []   \n",
       "1                                                   []          []   \n",
       "2                                                   []          []   \n",
       "3                                                   []          []   \n",
       "4                                                   []          []   \n",
       "..                                                 ...         ...   \n",
       "97                                                  []          []   \n",
       "98   [{'id': 5, 'user': 'omar@choosistant.com', 'cr...          []   \n",
       "99                                                  []          []   \n",
       "100                                                 []          []   \n",
       "101                                                 []          []   \n",
       "\n",
       "                                                  data meta  \\\n",
       "0    {'index': 5679, 'reviewerID': 'A11ZJBISQR1EPZ'...   {}   \n",
       "1    {'index': 5678, 'reviewerID': 'A3TO8UPZC7C3AT'...   {}   \n",
       "2    {'index': 5677, 'reviewerID': 'A3UVQ0KJ1U0BRM'...   {}   \n",
       "3    {'index': 5676, 'reviewerID': 'A1S2IRG0BDFBFR'...   {}   \n",
       "4    {'index': 5670, 'reviewerID': 'A1ZTG8SOKRVRGJ'...   {}   \n",
       "..                                                 ...  ...   \n",
       "97   {'index': 1858, 'reviewerID': 'A1NBZI880S5VXU'...   {}   \n",
       "98   {'index': 1855, 'reviewerID': 'A3FW4THIMBIN6V'...   {}   \n",
       "99   {'index': 1854, 'reviewerID': 'A34O0KQV4QXWNQ'...   {}   \n",
       "100  {'index': 6912, 'reviewerID': 'A2T4PF3X3MC0VC'...   {}   \n",
       "101  {'index': 1852, 'reviewerID': 'A13A81NN0NRD1S'...   {}   \n",
       "\n",
       "                          created_at                       updated_at  \\\n",
       "0   2022-09-22 15:03:40.342468+00:00 2022-09-22 15:21:41.931141+00:00   \n",
       "1   2022-09-22 15:03:40.342262+00:00 2022-09-22 15:20:44.631128+00:00   \n",
       "2   2022-09-22 15:03:40.341991+00:00 2022-09-22 15:20:23.122856+00:00   \n",
       "3   2022-09-22 15:03:40.341743+00:00 2022-09-22 15:19:59.085338+00:00   \n",
       "4   2022-09-22 15:03:40.341528+00:00 2022-09-22 15:19:17.592608+00:00   \n",
       "..                               ...                              ...   \n",
       "97  2022-09-18 14:35:16.344801+00:00 2022-09-18 15:34:36.373834+00:00   \n",
       "98  2022-09-18 14:35:16.344742+00:00 2022-09-18 14:53:23.627680+00:00   \n",
       "99  2022-09-18 14:35:16.344682+00:00 2022-09-18 14:49:51.072215+00:00   \n",
       "100 2022-09-18 14:25:48.275654+00:00 2022-09-18 14:35:52.526993+00:00   \n",
       "101 2022-09-18 14:25:48.275578+00:00 2022-09-18 14:35:48.914367+00:00   \n",
       "\n",
       "     inner_id  total_annotations  cancelled_annotations  total_predictions  \\\n",
       "0         104                  1                      0                  0   \n",
       "1         103                  1                      0                  0   \n",
       "2         102                  1                      0                  0   \n",
       "3         101                  1                      0                  0   \n",
       "4         100                  1                      0                  0   \n",
       "..        ...                ...                    ...                ...   \n",
       "97          6                  1                      0                  0   \n",
       "98          5                  1                      0                  0   \n",
       "99          4                  1                      0                  0   \n",
       "100         2                  1                      0                  0   \n",
       "101         1                  1                      0                  0   \n",
       "\n",
       "     project  updated_by  \n",
       "0          1           4  \n",
       "1          1           4  \n",
       "2          1           4  \n",
       "3          1           4  \n",
       "4          1           4  \n",
       "..       ...         ...  \n",
       "97         1           2  \n",
       "98         1           2  \n",
       "99         1           2  \n",
       "100        1           2  \n",
       "101        1           2  \n",
       "\n",
       "[102 rows x 15 columns]"
      ]
     },
     "execution_count": 3,
     "metadata": {},
     "output_type": "execute_result"
    }
   ],
   "source": [
    "df = pd.read_json(path)\n",
    "df"
   ]
  },
  {
   "cell_type": "code",
   "execution_count": 4,
   "id": "496e1b93",
   "metadata": {},
   "outputs": [
    {
     "data": {
      "text/plain": [
       "'benefit'"
      ]
     },
     "execution_count": 4,
     "metadata": {},
     "output_type": "execute_result"
    }
   ],
   "source": [
    "benefits = []\n",
    "critic = []\n",
    "\n",
    "len_annotations = len(df['annotations'].iloc[0][0].get(\"result\"))\n",
    "for i in range(len_annotations):\n",
    "    label = df['annotations'].iloc[0][0].get(\"result\")[0].get('value').get(\"labels\")[0]\n",
    "    text = df['annotations'].iloc[0][0].get(\"result\")[i].get(\"value\").get(\"text\")\n",
    "    benefits.append(text) if label == \"benefit\" else critic.append(text)\n",
    "df['annotations'].iloc[0][0].get(\"result\")[0].get('value').get(\"labels\")[0]\n"
   ]
  },
  {
   "cell_type": "code",
   "execution_count": 5,
   "id": "2a9fc7a6",
   "metadata": {},
   "outputs": [
    {
     "data": {
      "text/plain": [
       "'I received this sample and just loved it so I decided to purchase the full size. First off, it is organic, so that is great! Secondly, it is such a nice formula. It just glides onto your skin and absorbs very nicely. Last, I suffer from acne and have sensitive skin and it did not irritate my skin or cause any problems for me at all. I purchased a bunch of other products from Juice and can;t wait to receive te rest! :-)'"
      ]
     },
     "execution_count": 5,
     "metadata": {},
     "output_type": "execute_result"
    }
   ],
   "source": [
    "df[\"data\"].iloc[0].get(\"reviewText\")"
   ]
  },
  {
   "cell_type": "code",
   "execution_count": 6,
   "id": "8c7324d2",
   "metadata": {},
   "outputs": [],
   "source": [
    "df_new = pd.DataFrame(index=range(0), columns=[\"input_text\", \"target_text\"])\n",
    "df_new2 = pd.DataFrame(index=range(len(df)), columns=[\"input_text\", \"target_text\"])\n",
    "for k in range(len(df)):\n",
    "    len_annotations = len(df['annotations'].iloc[k][0].get(\"result\"))\n",
    "    df_annotation = pd.DataFrame(index=range(len_annotations), columns=[\"input_text\", \"target_text\"])\n",
    "    benefits = []\n",
    "    critic = []\n",
    "    for i in range(len_annotations):\n",
    "        label = df['annotations'].iloc[k][0].get(\"result\")[0].get('value').get(\"labels\")[0]\n",
    "        text = df['annotations'].iloc[k][0].get(\"result\")[i].get(\"value\").get(\"text\")\n",
    "        benefits.append(text) if label == \"benefit\" else critic.append(text)\n",
    "    benefitsSTR = ', '.join(benefits)\n",
    "    if(len(benefits) > 0):\n",
    "        df_annotation[\"target_text\"] = benefits\n",
    "        df_annotation[\"input_text\"] = df[\"data\"].iloc[k].get(\"reviewText\")\n",
    "        df_new = pd.concat([df_new, df_annotation], ignore_index=True)\n",
    "        df_new2.loc[k, \"target_text\"] = benefitsSTR\n",
    "    df_new2.loc[k, \"input_text\"] = df[\"data\"].iloc[k].get(\"reviewText\")\n",
    "        \n",
    "        "
   ]
  },
  {
   "cell_type": "code",
   "execution_count": 7,
   "id": "f4b6be29",
   "metadata": {},
   "outputs": [
    {
     "data": {
      "text/html": [
       "<div>\n",
       "<style scoped>\n",
       "    .dataframe tbody tr th:only-of-type {\n",
       "        vertical-align: middle;\n",
       "    }\n",
       "\n",
       "    .dataframe tbody tr th {\n",
       "        vertical-align: top;\n",
       "    }\n",
       "\n",
       "    .dataframe thead th {\n",
       "        text-align: right;\n",
       "    }\n",
       "</style>\n",
       "<table border=\"1\" class=\"dataframe\">\n",
       "  <thead>\n",
       "    <tr style=\"text-align: right;\">\n",
       "      <th></th>\n",
       "      <th>input_text</th>\n",
       "      <th>target_text</th>\n",
       "    </tr>\n",
       "  </thead>\n",
       "  <tbody>\n",
       "    <tr>\n",
       "      <th>0</th>\n",
       "      <td>I received this sample and just loved it so I ...</td>\n",
       "      <td>organic</td>\n",
       "    </tr>\n",
       "    <tr>\n",
       "      <th>1</th>\n",
       "      <td>I received this sample and just loved it so I ...</td>\n",
       "      <td>nice formula</td>\n",
       "    </tr>\n",
       "    <tr>\n",
       "      <th>2</th>\n",
       "      <td>I received this sample and just loved it so I ...</td>\n",
       "      <td>glides onto your skin and absorbs very nicely</td>\n",
       "    </tr>\n",
       "    <tr>\n",
       "      <th>3</th>\n",
       "      <td>I received this sample and just loved it so I ...</td>\n",
       "      <td>did not irritate my skin</td>\n",
       "    </tr>\n",
       "    <tr>\n",
       "      <th>4</th>\n",
       "      <td>Great on my sensitive skin. Moisturizes withou...</td>\n",
       "      <td>Great on my sensitive skin</td>\n",
       "    </tr>\n",
       "    <tr>\n",
       "      <th>...</th>\n",
       "      <td>...</td>\n",
       "      <td>...</td>\n",
       "    </tr>\n",
       "    <tr>\n",
       "      <th>146</th>\n",
       "      <td>This is a pretty good stand and is relatively ...</td>\n",
       "      <td>Makes it more difficult to hug a wall</td>\n",
       "    </tr>\n",
       "    <tr>\n",
       "      <th>147</th>\n",
       "      <td>This is a pretty good stand and is relatively ...</td>\n",
       "      <td>ends up taking more 3D space than it really needs</td>\n",
       "    </tr>\n",
       "    <tr>\n",
       "      <th>148</th>\n",
       "      <td>This is a pretty good stand and is relatively ...</td>\n",
       "      <td>the two footer bars are not quite level with e...</td>\n",
       "    </tr>\n",
       "    <tr>\n",
       "      <th>149</th>\n",
       "      <td>Works perfectly for both my Martin dreadnought...</td>\n",
       "      <td>Works perfectly for both my Martin dreadnought...</td>\n",
       "    </tr>\n",
       "    <tr>\n",
       "      <th>150</th>\n",
       "      <td>Works perfectly for both my Martin dreadnought...</td>\n",
       "      <td>Solid unit, good material and construction</td>\n",
       "    </tr>\n",
       "  </tbody>\n",
       "</table>\n",
       "<p>151 rows × 2 columns</p>\n",
       "</div>"
      ],
      "text/plain": [
       "                                            input_text  \\\n",
       "0    I received this sample and just loved it so I ...   \n",
       "1    I received this sample and just loved it so I ...   \n",
       "2    I received this sample and just loved it so I ...   \n",
       "3    I received this sample and just loved it so I ...   \n",
       "4    Great on my sensitive skin. Moisturizes withou...   \n",
       "..                                                 ...   \n",
       "146  This is a pretty good stand and is relatively ...   \n",
       "147  This is a pretty good stand and is relatively ...   \n",
       "148  This is a pretty good stand and is relatively ...   \n",
       "149  Works perfectly for both my Martin dreadnought...   \n",
       "150  Works perfectly for both my Martin dreadnought...   \n",
       "\n",
       "                                           target_text  \n",
       "0                                              organic  \n",
       "1                                         nice formula  \n",
       "2        glides onto your skin and absorbs very nicely  \n",
       "3                             did not irritate my skin  \n",
       "4                           Great on my sensitive skin  \n",
       "..                                                 ...  \n",
       "146              Makes it more difficult to hug a wall  \n",
       "147  ends up taking more 3D space than it really needs  \n",
       "148  the two footer bars are not quite level with e...  \n",
       "149  Works perfectly for both my Martin dreadnought...  \n",
       "150         Solid unit, good material and construction  \n",
       "\n",
       "[151 rows x 2 columns]"
      ]
     },
     "execution_count": 7,
     "metadata": {},
     "output_type": "execute_result"
    }
   ],
   "source": [
    "df_new"
   ]
  },
  {
   "cell_type": "code",
   "execution_count": 35,
   "id": "cb350a60",
   "metadata": {},
   "outputs": [
    {
     "data": {
      "text/html": [
       "<div>\n",
       "<style scoped>\n",
       "    .dataframe tbody tr th:only-of-type {\n",
       "        vertical-align: middle;\n",
       "    }\n",
       "\n",
       "    .dataframe tbody tr th {\n",
       "        vertical-align: top;\n",
       "    }\n",
       "\n",
       "    .dataframe thead th {\n",
       "        text-align: right;\n",
       "    }\n",
       "</style>\n",
       "<table border=\"1\" class=\"dataframe\">\n",
       "  <thead>\n",
       "    <tr style=\"text-align: right;\">\n",
       "      <th></th>\n",
       "      <th>input_text</th>\n",
       "      <th>target_text</th>\n",
       "    </tr>\n",
       "  </thead>\n",
       "  <tbody>\n",
       "    <tr>\n",
       "      <th>0</th>\n",
       "      <td>I received this sample and just loved it so I ...</td>\n",
       "      <td>organic, nice formula, glides onto your skin a...</td>\n",
       "    </tr>\n",
       "    <tr>\n",
       "      <th>1</th>\n",
       "      <td>Great on my sensitive skin. Moisturizes withou...</td>\n",
       "      <td>Great on my sensitive skin, Moisturizes withou...</td>\n",
       "    </tr>\n",
       "    <tr>\n",
       "      <th>2</th>\n",
       "      <td>Product made me break out severely with acne a...</td>\n",
       "      <td>NaN</td>\n",
       "    </tr>\n",
       "    <tr>\n",
       "      <th>3</th>\n",
       "      <td>I have purchased this product due to the fact ...</td>\n",
       "      <td>has some natural/organic ingredients, made me ...</td>\n",
       "    </tr>\n",
       "    <tr>\n",
       "      <th>4</th>\n",
       "      <td>Smells delicious, very light, fast absorption,...</td>\n",
       "      <td>Smells delicious, very light, fast absorption,...</td>\n",
       "    </tr>\n",
       "    <tr>\n",
       "      <th>...</th>\n",
       "      <td>...</td>\n",
       "      <td>...</td>\n",
       "    </tr>\n",
       "    <tr>\n",
       "      <th>97</th>\n",
       "      <td>This is a pretty good stand and is relatively ...</td>\n",
       "      <td>elatively robust for its compact size, Opens e...</td>\n",
       "    </tr>\n",
       "    <tr>\n",
       "      <th>98</th>\n",
       "      <td>I read the reviews of the few similar options....</td>\n",
       "      <td>NaN</td>\n",
       "    </tr>\n",
       "    <tr>\n",
       "      <th>99</th>\n",
       "      <td>I don't know who designed the leg feature of t...</td>\n",
       "      <td>NaN</td>\n",
       "    </tr>\n",
       "    <tr>\n",
       "      <th>100</th>\n",
       "      <td>These pens were purchased for someone else, an...</td>\n",
       "      <td>NaN</td>\n",
       "    </tr>\n",
       "    <tr>\n",
       "      <th>101</th>\n",
       "      <td>Works perfectly for both my Martin dreadnought...</td>\n",
       "      <td>Works perfectly for both my Martin dreadnought...</td>\n",
       "    </tr>\n",
       "  </tbody>\n",
       "</table>\n",
       "<p>102 rows × 2 columns</p>\n",
       "</div>"
      ],
      "text/plain": [
       "                                            input_text  \\\n",
       "0    I received this sample and just loved it so I ...   \n",
       "1    Great on my sensitive skin. Moisturizes withou...   \n",
       "2    Product made me break out severely with acne a...   \n",
       "3    I have purchased this product due to the fact ...   \n",
       "4    Smells delicious, very light, fast absorption,...   \n",
       "..                                                 ...   \n",
       "97   This is a pretty good stand and is relatively ...   \n",
       "98   I read the reviews of the few similar options....   \n",
       "99   I don't know who designed the leg feature of t...   \n",
       "100  These pens were purchased for someone else, an...   \n",
       "101  Works perfectly for both my Martin dreadnought...   \n",
       "\n",
       "                                           target_text  \n",
       "0    organic, nice formula, glides onto your skin a...  \n",
       "1    Great on my sensitive skin, Moisturizes withou...  \n",
       "2                                                  NaN  \n",
       "3    has some natural/organic ingredients, made me ...  \n",
       "4    Smells delicious, very light, fast absorption,...  \n",
       "..                                                 ...  \n",
       "97   elatively robust for its compact size, Opens e...  \n",
       "98                                                 NaN  \n",
       "99                                                 NaN  \n",
       "100                                                NaN  \n",
       "101  Works perfectly for both my Martin dreadnought...  \n",
       "\n",
       "[102 rows x 2 columns]"
      ]
     },
     "execution_count": 35,
     "metadata": {},
     "output_type": "execute_result"
    }
   ],
   "source": [
    "df_new2"
   ]
  },
  {
   "cell_type": "code",
   "execution_count": 36,
   "id": "1483ec9f",
   "metadata": {},
   "outputs": [
    {
     "data": {
      "text/html": [
       "<div>\n",
       "<style scoped>\n",
       "    .dataframe tbody tr th:only-of-type {\n",
       "        vertical-align: middle;\n",
       "    }\n",
       "\n",
       "    .dataframe tbody tr th {\n",
       "        vertical-align: top;\n",
       "    }\n",
       "\n",
       "    .dataframe thead th {\n",
       "        text-align: right;\n",
       "    }\n",
       "</style>\n",
       "<table border=\"1\" class=\"dataframe\">\n",
       "  <thead>\n",
       "    <tr style=\"text-align: right;\">\n",
       "      <th></th>\n",
       "      <th>input_text</th>\n",
       "      <th>target_text</th>\n",
       "    </tr>\n",
       "  </thead>\n",
       "  <tbody>\n",
       "    <tr>\n",
       "      <th>0</th>\n",
       "      <td>I received this sample and just loved it so I ...</td>\n",
       "      <td>organic, nice formula, glides onto your skin a...</td>\n",
       "    </tr>\n",
       "    <tr>\n",
       "      <th>1</th>\n",
       "      <td>Great on my sensitive skin. Moisturizes withou...</td>\n",
       "      <td>Great on my sensitive skin, Moisturizes withou...</td>\n",
       "    </tr>\n",
       "    <tr>\n",
       "      <th>2</th>\n",
       "      <td>I have purchased this product due to the fact ...</td>\n",
       "      <td>has some natural/organic ingredients, made me ...</td>\n",
       "    </tr>\n",
       "    <tr>\n",
       "      <th>3</th>\n",
       "      <td>Smells delicious, very light, fast absorption,...</td>\n",
       "      <td>Smells delicious, very light, fast absorption,...</td>\n",
       "    </tr>\n",
       "    <tr>\n",
       "      <th>4</th>\n",
       "      <td>My first use of the kit was great and the wax ...</td>\n",
       "      <td>wax worked well, wax was stuck to the side of ...</td>\n",
       "    </tr>\n",
       "    <tr>\n",
       "      <th>5</th>\n",
       "      <td>I used this product for years and the supplier...</td>\n",
       "      <td>very effective</td>\n",
       "    </tr>\n",
       "    <tr>\n",
       "      <th>6</th>\n",
       "      <td>After much hesitation, I tried this product an...</td>\n",
       "      <td>no more painful to me than having your eyebrow...</td>\n",
       "    </tr>\n",
       "    <tr>\n",
       "      <th>7</th>\n",
       "      <td>Quick and easy. Painless and gets even the fin...</td>\n",
       "      <td>Quick and easy, Painless and gets even the fin...</td>\n",
       "    </tr>\n",
       "    <tr>\n",
       "      <th>8</th>\n",
       "      <td>I've been using this for the past few weeks no...</td>\n",
       "      <td>overall my skin feels and looks nice, beads wh...</td>\n",
       "    </tr>\n",
       "    <tr>\n",
       "      <th>9</th>\n",
       "      <td>I love this stuff. It's mild enough to use 1x ...</td>\n",
       "      <td>mild enough to use 1x per day, beads are also ...</td>\n",
       "    </tr>\n",
       "    <tr>\n",
       "      <th>10</th>\n",
       "      <td>I developed some type of allergy to eye creams...</td>\n",
       "      <td>it is without any of the alcohol or chemical a...</td>\n",
       "    </tr>\n",
       "    <tr>\n",
       "      <th>11</th>\n",
       "      <td>I use this laptop lift with my Mac Book Pro 13...</td>\n",
       "      <td>fits just perfectly, lifts about 30 degrees an...</td>\n",
       "    </tr>\n",
       "    <tr>\n",
       "      <th>12</th>\n",
       "      <td>This pouch is very sturdy. It can accommodate ...</td>\n",
       "      <td>very sturdy, can accommodate a large bunch of ...</td>\n",
       "    </tr>\n",
       "    <tr>\n",
       "      <th>13</th>\n",
       "      <td>These Smead Expanding Wallets measure 9-3/4\"  ...</td>\n",
       "      <td>made of heavy paper stock, elastic bands to ho...</td>\n",
       "    </tr>\n",
       "    <tr>\n",
       "      <th>14</th>\n",
       "      <td>These are very lightweight expanding document ...</td>\n",
       "      <td>There is no velcro closure; this actually just...</td>\n",
       "    </tr>\n",
       "    <tr>\n",
       "      <th>15</th>\n",
       "      <td>These are great expanding wallets - durable, e...</td>\n",
       "      <td>durable, easy to use, and very secure, price i...</td>\n",
       "    </tr>\n",
       "    <tr>\n",
       "      <th>16</th>\n",
       "      <td>Boxes, packages, CDs, DVDs and more! This litt...</td>\n",
       "      <td>small enough to be compact, not bulky and easy...</td>\n",
       "    </tr>\n",
       "    <tr>\n",
       "      <th>17</th>\n",
       "      <td>good points1. sort of does what it says it doe...</td>\n",
       "      <td>handle well designed for griping3, looks less ...</td>\n",
       "    </tr>\n",
       "    <tr>\n",
       "      <th>18</th>\n",
       "      <td>The Scotch Safe Cut Package does what it shoul...</td>\n",
       "      <td>cuts the tape to open boxes, or cuts thin (tha...</td>\n",
       "    </tr>\n",
       "    <tr>\n",
       "      <th>19</th>\n",
       "      <td>Very nice little pop-up dispenser. Perfect for...</td>\n",
       "      <td>Perfect for a sleek look, Easy to use and easy...</td>\n",
       "    </tr>\n",
       "    <tr>\n",
       "      <th>20</th>\n",
       "      <td>I own the Pebble tape dispenser in the same li...</td>\n",
       "      <td>looks gorgeous and works well, There does not ...</td>\n",
       "    </tr>\n",
       "    <tr>\n",
       "      <th>21</th>\n",
       "      <td>This adds some style that is missing with the ...</td>\n",
       "      <td>adds some style that is missing with the Post-...</td>\n",
       "    </tr>\n",
       "    <tr>\n",
       "      <th>22</th>\n",
       "      <td>The 12 year old child I gave this to described...</td>\n",
       "      <td>favorite feature is the capacity to save spell...</td>\n",
       "    </tr>\n",
       "    <tr>\n",
       "      <th>23</th>\n",
       "      <td>My kids ages 6 &amp; 8 initially played with this ...</td>\n",
       "      <td>It's small, but a good size for small hands, S...</td>\n",
       "    </tr>\n",
       "    <tr>\n",
       "      <th>24</th>\n",
       "      <td>I use this rocker at my desk at home.  The roo...</td>\n",
       "      <td>My rocker's motion is smooth and fluid with na...</td>\n",
       "    </tr>\n",
       "    <tr>\n",
       "      <th>25</th>\n",
       "      <td>The Fellowes foot rocker is nice for support. ...</td>\n",
       "      <td>Raises your feet off the ground which makes yo...</td>\n",
       "    </tr>\n",
       "    <tr>\n",
       "      <th>26</th>\n",
       "      <td>These are ink pens but write like gel pens. Th...</td>\n",
       "      <td>They write smooth without skipping</td>\n",
       "    </tr>\n",
       "    <tr>\n",
       "      <th>27</th>\n",
       "      <td>Like most other reviewers, I think this is a f...</td>\n",
       "      <td>The envelope seals securely</td>\n",
       "    </tr>\n",
       "    <tr>\n",
       "      <th>28</th>\n",
       "      <td>Usually, when I use self-sealing envelopes, I ...</td>\n",
       "      <td>The glue goes all the way to the edge of the e...</td>\n",
       "    </tr>\n",
       "    <tr>\n",
       "      <th>29</th>\n",
       "      <td>Self sealing envelopes are not a new idea.  Wh...</td>\n",
       "      <td>The glue seems to seal the envelope well and k...</td>\n",
       "    </tr>\n",
       "    <tr>\n",
       "      <th>30</th>\n",
       "      <td>I've been using a Dymo LabelWriter Twin Turbo ...</td>\n",
       "      <td>The latest software synchronizes with your Out...</td>\n",
       "    </tr>\n",
       "    <tr>\n",
       "      <th>31</th>\n",
       "      <td>This is an alright label printer...here are so...</td>\n",
       "      <td>rints pretty quickly (regardless of quality of...</td>\n",
       "    </tr>\n",
       "    <tr>\n",
       "      <th>32</th>\n",
       "      <td>This is the famous Milton red stapler from the...</td>\n",
       "      <td>Paint looks like baked or dipped and not somet...</td>\n",
       "    </tr>\n",
       "    <tr>\n",
       "      <th>33</th>\n",
       "      <td>Overall very nice.Bright beam.  Uses AAA batte...</td>\n",
       "      <td>right beam, No tools needed to put in batterie...</td>\n",
       "    </tr>\n",
       "    <tr>\n",
       "      <th>34</th>\n",
       "      <td>I prefer shipping labels with permanent adhesi...</td>\n",
       "      <td>they are easily removable, will stay put when ...</td>\n",
       "    </tr>\n",
       "    <tr>\n",
       "      <th>35</th>\n",
       "      <td>Make sure you realize that these labels includ...</td>\n",
       "      <td>f you do, however, need a paper receipt consis...</td>\n",
       "    </tr>\n",
       "    <tr>\n",
       "      <th>36</th>\n",
       "      <td>Normally, I wouldn't say I loved an ink cartri...</td>\n",
       "      <td>he ink doesn't dry out, it lasts me a long time</td>\n",
       "    </tr>\n",
       "    <tr>\n",
       "      <th>37</th>\n",
       "      <td>So far, this is the only Noodler's ink I own (...</td>\n",
       "      <td>it does have a lovely color</td>\n",
       "    </tr>\n",
       "    <tr>\n",
       "      <th>38</th>\n",
       "      <td>These are nothing special, but they work well ...</td>\n",
       "      <td>they work well and are inexpensive, The grip c...</td>\n",
       "    </tr>\n",
       "    <tr>\n",
       "      <th>39</th>\n",
       "      <td>The US-100 works fine for my needs: rough and ...</td>\n",
       "      <td>ough and ready audio tracking with 32-bit Cuba...</td>\n",
       "    </tr>\n",
       "    <tr>\n",
       "      <th>40</th>\n",
       "      <td>This is an interesting, limited effect pedal. ...</td>\n",
       "      <td>On a pedal steel you can bend notes with the p...</td>\n",
       "    </tr>\n",
       "    <tr>\n",
       "      <th>41</th>\n",
       "      <td>My son needed a laser pointer for a science ex...</td>\n",
       "      <td>It does the job with a clear, red beam, The on...</td>\n",
       "    </tr>\n",
       "    <tr>\n",
       "      <th>42</th>\n",
       "      <td>I purchased this desktop stand with the hopes ...</td>\n",
       "      <td>ery solid build</td>\n",
       "    </tr>\n",
       "    <tr>\n",
       "      <th>43</th>\n",
       "      <td>Base is heavy and sturdy so your mics won't to...</td>\n",
       "      <td>Base is heavy and sturdy, The action on the he...</td>\n",
       "    </tr>\n",
       "    <tr>\n",
       "      <th>44</th>\n",
       "      <td>I bought 5 of these for live recording of my b...</td>\n",
       "      <td>adjust easil for most any amplifier height yet...</td>\n",
       "    </tr>\n",
       "    <tr>\n",
       "      <th>45</th>\n",
       "      <td>This is a pretty good stand and is relatively ...</td>\n",
       "      <td>elatively robust for its compact size, Opens e...</td>\n",
       "    </tr>\n",
       "    <tr>\n",
       "      <th>46</th>\n",
       "      <td>Works perfectly for both my Martin dreadnought...</td>\n",
       "      <td>Works perfectly for both my Martin dreadnought...</td>\n",
       "    </tr>\n",
       "  </tbody>\n",
       "</table>\n",
       "</div>"
      ],
      "text/plain": [
       "                                           input_text  \\\n",
       "0   I received this sample and just loved it so I ...   \n",
       "1   Great on my sensitive skin. Moisturizes withou...   \n",
       "2   I have purchased this product due to the fact ...   \n",
       "3   Smells delicious, very light, fast absorption,...   \n",
       "4   My first use of the kit was great and the wax ...   \n",
       "5   I used this product for years and the supplier...   \n",
       "6   After much hesitation, I tried this product an...   \n",
       "7   Quick and easy. Painless and gets even the fin...   \n",
       "8   I've been using this for the past few weeks no...   \n",
       "9   I love this stuff. It's mild enough to use 1x ...   \n",
       "10  I developed some type of allergy to eye creams...   \n",
       "11  I use this laptop lift with my Mac Book Pro 13...   \n",
       "12  This pouch is very sturdy. It can accommodate ...   \n",
       "13  These Smead Expanding Wallets measure 9-3/4\"  ...   \n",
       "14  These are very lightweight expanding document ...   \n",
       "15  These are great expanding wallets - durable, e...   \n",
       "16  Boxes, packages, CDs, DVDs and more! This litt...   \n",
       "17  good points1. sort of does what it says it doe...   \n",
       "18  The Scotch Safe Cut Package does what it shoul...   \n",
       "19  Very nice little pop-up dispenser. Perfect for...   \n",
       "20  I own the Pebble tape dispenser in the same li...   \n",
       "21  This adds some style that is missing with the ...   \n",
       "22  The 12 year old child I gave this to described...   \n",
       "23  My kids ages 6 & 8 initially played with this ...   \n",
       "24  I use this rocker at my desk at home.  The roo...   \n",
       "25  The Fellowes foot rocker is nice for support. ...   \n",
       "26  These are ink pens but write like gel pens. Th...   \n",
       "27  Like most other reviewers, I think this is a f...   \n",
       "28  Usually, when I use self-sealing envelopes, I ...   \n",
       "29  Self sealing envelopes are not a new idea.  Wh...   \n",
       "30  I've been using a Dymo LabelWriter Twin Turbo ...   \n",
       "31  This is an alright label printer...here are so...   \n",
       "32  This is the famous Milton red stapler from the...   \n",
       "33  Overall very nice.Bright beam.  Uses AAA batte...   \n",
       "34  I prefer shipping labels with permanent adhesi...   \n",
       "35  Make sure you realize that these labels includ...   \n",
       "36  Normally, I wouldn't say I loved an ink cartri...   \n",
       "37  So far, this is the only Noodler's ink I own (...   \n",
       "38  These are nothing special, but they work well ...   \n",
       "39  The US-100 works fine for my needs: rough and ...   \n",
       "40  This is an interesting, limited effect pedal. ...   \n",
       "41  My son needed a laser pointer for a science ex...   \n",
       "42  I purchased this desktop stand with the hopes ...   \n",
       "43  Base is heavy and sturdy so your mics won't to...   \n",
       "44  I bought 5 of these for live recording of my b...   \n",
       "45  This is a pretty good stand and is relatively ...   \n",
       "46  Works perfectly for both my Martin dreadnought...   \n",
       "\n",
       "                                          target_text  \n",
       "0   organic, nice formula, glides onto your skin a...  \n",
       "1   Great on my sensitive skin, Moisturizes withou...  \n",
       "2   has some natural/organic ingredients, made me ...  \n",
       "3   Smells delicious, very light, fast absorption,...  \n",
       "4   wax worked well, wax was stuck to the side of ...  \n",
       "5                                      very effective  \n",
       "6   no more painful to me than having your eyebrow...  \n",
       "7   Quick and easy, Painless and gets even the fin...  \n",
       "8   overall my skin feels and looks nice, beads wh...  \n",
       "9   mild enough to use 1x per day, beads are also ...  \n",
       "10  it is without any of the alcohol or chemical a...  \n",
       "11  fits just perfectly, lifts about 30 degrees an...  \n",
       "12  very sturdy, can accommodate a large bunch of ...  \n",
       "13  made of heavy paper stock, elastic bands to ho...  \n",
       "14  There is no velcro closure; this actually just...  \n",
       "15  durable, easy to use, and very secure, price i...  \n",
       "16  small enough to be compact, not bulky and easy...  \n",
       "17  handle well designed for griping3, looks less ...  \n",
       "18  cuts the tape to open boxes, or cuts thin (tha...  \n",
       "19  Perfect for a sleek look, Easy to use and easy...  \n",
       "20  looks gorgeous and works well, There does not ...  \n",
       "21  adds some style that is missing with the Post-...  \n",
       "22  favorite feature is the capacity to save spell...  \n",
       "23  It's small, but a good size for small hands, S...  \n",
       "24  My rocker's motion is smooth and fluid with na...  \n",
       "25  Raises your feet off the ground which makes yo...  \n",
       "26                 They write smooth without skipping  \n",
       "27                        The envelope seals securely  \n",
       "28  The glue goes all the way to the edge of the e...  \n",
       "29  The glue seems to seal the envelope well and k...  \n",
       "30  The latest software synchronizes with your Out...  \n",
       "31  rints pretty quickly (regardless of quality of...  \n",
       "32  Paint looks like baked or dipped and not somet...  \n",
       "33  right beam, No tools needed to put in batterie...  \n",
       "34  they are easily removable, will stay put when ...  \n",
       "35  f you do, however, need a paper receipt consis...  \n",
       "36    he ink doesn't dry out, it lasts me a long time  \n",
       "37                        it does have a lovely color  \n",
       "38  they work well and are inexpensive, The grip c...  \n",
       "39  ough and ready audio tracking with 32-bit Cuba...  \n",
       "40  On a pedal steel you can bend notes with the p...  \n",
       "41  It does the job with a clear, red beam, The on...  \n",
       "42                                    ery solid build  \n",
       "43  Base is heavy and sturdy, The action on the he...  \n",
       "44  adjust easil for most any amplifier height yet...  \n",
       "45  elatively robust for its compact size, Opens e...  \n",
       "46  Works perfectly for both my Martin dreadnought...  "
      ]
     },
     "execution_count": 36,
     "metadata": {},
     "output_type": "execute_result"
    }
   ],
   "source": [
    "# df_data = df_new.dropna().reset_index(drop=True)\n",
    "df_data = df_new2.dropna().reset_index(drop=True)\n",
    "df_data"
   ]
  },
  {
   "cell_type": "code",
   "execution_count": 49,
   "id": "a5e161cb",
   "metadata": {},
   "outputs": [
    {
     "data": {
      "text/html": [
       "<div>\n",
       "<style scoped>\n",
       "    .dataframe tbody tr th:only-of-type {\n",
       "        vertical-align: middle;\n",
       "    }\n",
       "\n",
       "    .dataframe tbody tr th {\n",
       "        vertical-align: top;\n",
       "    }\n",
       "\n",
       "    .dataframe thead th {\n",
       "        text-align: right;\n",
       "    }\n",
       "</style>\n",
       "<table border=\"1\" class=\"dataframe\">\n",
       "  <thead>\n",
       "    <tr style=\"text-align: right;\">\n",
       "      <th></th>\n",
       "      <th>input_text</th>\n",
       "      <th>target_text</th>\n",
       "    </tr>\n",
       "  </thead>\n",
       "  <tbody>\n",
       "    <tr>\n",
       "      <th>0</th>\n",
       "      <td>I received this sample and just loved it so I ...</td>\n",
       "      <td>organic, nice formula, glides onto your skin a...</td>\n",
       "    </tr>\n",
       "    <tr>\n",
       "      <th>1</th>\n",
       "      <td>Great on my sensitive skin. Moisturizes withou...</td>\n",
       "      <td>Great on my sensitive skin, Moisturizes withou...</td>\n",
       "    </tr>\n",
       "    <tr>\n",
       "      <th>2</th>\n",
       "      <td>I have purchased this product due to the fact ...</td>\n",
       "      <td>has some natural/organic ingredients, made me ...</td>\n",
       "    </tr>\n",
       "    <tr>\n",
       "      <th>3</th>\n",
       "      <td>Smells delicious, very light, fast absorption,...</td>\n",
       "      <td>Smells delicious, very light, fast absorption,...</td>\n",
       "    </tr>\n",
       "    <tr>\n",
       "      <th>4</th>\n",
       "      <td>My first use of the kit was great and the wax ...</td>\n",
       "      <td>wax worked well, wax was stuck to the side of ...</td>\n",
       "    </tr>\n",
       "    <tr>\n",
       "      <th>5</th>\n",
       "      <td>I used this product for years and the supplier...</td>\n",
       "      <td>very effective</td>\n",
       "    </tr>\n",
       "    <tr>\n",
       "      <th>6</th>\n",
       "      <td>After much hesitation, I tried this product an...</td>\n",
       "      <td>no more painful to me than having your eyebrow...</td>\n",
       "    </tr>\n",
       "    <tr>\n",
       "      <th>7</th>\n",
       "      <td>Quick and easy. Painless and gets even the fin...</td>\n",
       "      <td>Quick and easy, Painless and gets even the fin...</td>\n",
       "    </tr>\n",
       "    <tr>\n",
       "      <th>8</th>\n",
       "      <td>I've been using this for the past few weeks no...</td>\n",
       "      <td>overall my skin feels and looks nice, beads wh...</td>\n",
       "    </tr>\n",
       "    <tr>\n",
       "      <th>9</th>\n",
       "      <td>I love this stuff. It's mild enough to use 1x ...</td>\n",
       "      <td>mild enough to use 1x per day, beads are also ...</td>\n",
       "    </tr>\n",
       "    <tr>\n",
       "      <th>10</th>\n",
       "      <td>I developed some type of allergy to eye creams...</td>\n",
       "      <td>it is without any of the alcohol or chemical a...</td>\n",
       "    </tr>\n",
       "    <tr>\n",
       "      <th>11</th>\n",
       "      <td>I use this laptop lift with my Mac Book Pro 13...</td>\n",
       "      <td>fits just perfectly, lifts about 30 degrees an...</td>\n",
       "    </tr>\n",
       "    <tr>\n",
       "      <th>12</th>\n",
       "      <td>This pouch is very sturdy. It can accommodate ...</td>\n",
       "      <td>very sturdy, can accommodate a large bunch of ...</td>\n",
       "    </tr>\n",
       "    <tr>\n",
       "      <th>13</th>\n",
       "      <td>These Smead Expanding Wallets measure 9-3/4\"  ...</td>\n",
       "      <td>made of heavy paper stock, elastic bands to ho...</td>\n",
       "    </tr>\n",
       "    <tr>\n",
       "      <th>14</th>\n",
       "      <td>These are very lightweight expanding document ...</td>\n",
       "      <td>There is no velcro closure; this actually just...</td>\n",
       "    </tr>\n",
       "    <tr>\n",
       "      <th>15</th>\n",
       "      <td>These are great expanding wallets - durable, e...</td>\n",
       "      <td>durable, easy to use, and very secure, price i...</td>\n",
       "    </tr>\n",
       "    <tr>\n",
       "      <th>16</th>\n",
       "      <td>Boxes, packages, CDs, DVDs and more! This litt...</td>\n",
       "      <td>small enough to be compact, not bulky and easy...</td>\n",
       "    </tr>\n",
       "    <tr>\n",
       "      <th>17</th>\n",
       "      <td>good points1. sort of does what it says it doe...</td>\n",
       "      <td>handle well designed for griping3, looks less ...</td>\n",
       "    </tr>\n",
       "    <tr>\n",
       "      <th>18</th>\n",
       "      <td>The Scotch Safe Cut Package does what it shoul...</td>\n",
       "      <td>cuts the tape to open boxes, or cuts thin (tha...</td>\n",
       "    </tr>\n",
       "    <tr>\n",
       "      <th>19</th>\n",
       "      <td>Very nice little pop-up dispenser. Perfect for...</td>\n",
       "      <td>Perfect for a sleek look, Easy to use and easy...</td>\n",
       "    </tr>\n",
       "    <tr>\n",
       "      <th>20</th>\n",
       "      <td>I own the Pebble tape dispenser in the same li...</td>\n",
       "      <td>looks gorgeous and works well, There does not ...</td>\n",
       "    </tr>\n",
       "    <tr>\n",
       "      <th>21</th>\n",
       "      <td>This adds some style that is missing with the ...</td>\n",
       "      <td>adds some style that is missing with the Post-...</td>\n",
       "    </tr>\n",
       "    <tr>\n",
       "      <th>22</th>\n",
       "      <td>The 12 year old child I gave this to described...</td>\n",
       "      <td>favorite feature is the capacity to save spell...</td>\n",
       "    </tr>\n",
       "  </tbody>\n",
       "</table>\n",
       "</div>"
      ],
      "text/plain": [
       "                                           input_text  \\\n",
       "0   I received this sample and just loved it so I ...   \n",
       "1   Great on my sensitive skin. Moisturizes withou...   \n",
       "2   I have purchased this product due to the fact ...   \n",
       "3   Smells delicious, very light, fast absorption,...   \n",
       "4   My first use of the kit was great and the wax ...   \n",
       "5   I used this product for years and the supplier...   \n",
       "6   After much hesitation, I tried this product an...   \n",
       "7   Quick and easy. Painless and gets even the fin...   \n",
       "8   I've been using this for the past few weeks no...   \n",
       "9   I love this stuff. It's mild enough to use 1x ...   \n",
       "10  I developed some type of allergy to eye creams...   \n",
       "11  I use this laptop lift with my Mac Book Pro 13...   \n",
       "12  This pouch is very sturdy. It can accommodate ...   \n",
       "13  These Smead Expanding Wallets measure 9-3/4\"  ...   \n",
       "14  These are very lightweight expanding document ...   \n",
       "15  These are great expanding wallets - durable, e...   \n",
       "16  Boxes, packages, CDs, DVDs and more! This litt...   \n",
       "17  good points1. sort of does what it says it doe...   \n",
       "18  The Scotch Safe Cut Package does what it shoul...   \n",
       "19  Very nice little pop-up dispenser. Perfect for...   \n",
       "20  I own the Pebble tape dispenser in the same li...   \n",
       "21  This adds some style that is missing with the ...   \n",
       "22  The 12 year old child I gave this to described...   \n",
       "\n",
       "                                          target_text  \n",
       "0   organic, nice formula, glides onto your skin a...  \n",
       "1   Great on my sensitive skin, Moisturizes withou...  \n",
       "2   has some natural/organic ingredients, made me ...  \n",
       "3   Smells delicious, very light, fast absorption,...  \n",
       "4   wax worked well, wax was stuck to the side of ...  \n",
       "5                                      very effective  \n",
       "6   no more painful to me than having your eyebrow...  \n",
       "7   Quick and easy, Painless and gets even the fin...  \n",
       "8   overall my skin feels and looks nice, beads wh...  \n",
       "9   mild enough to use 1x per day, beads are also ...  \n",
       "10  it is without any of the alcohol or chemical a...  \n",
       "11  fits just perfectly, lifts about 30 degrees an...  \n",
       "12  very sturdy, can accommodate a large bunch of ...  \n",
       "13  made of heavy paper stock, elastic bands to ho...  \n",
       "14  There is no velcro closure; this actually just...  \n",
       "15  durable, easy to use, and very secure, price i...  \n",
       "16  small enough to be compact, not bulky and easy...  \n",
       "17  handle well designed for griping3, looks less ...  \n",
       "18  cuts the tape to open boxes, or cuts thin (tha...  \n",
       "19  Perfect for a sleek look, Easy to use and easy...  \n",
       "20  looks gorgeous and works well, There does not ...  \n",
       "21  adds some style that is missing with the Post-...  \n",
       "22  favorite feature is the capacity to save spell...  "
      ]
     },
     "execution_count": 49,
     "metadata": {},
     "output_type": "execute_result"
    }
   ],
   "source": [
    "train_df = df_data.iloc[0:23]\n",
    "eval_df = df_data.iloc[23:46]\n",
    "train_df"
   ]
  },
  {
   "cell_type": "code",
   "execution_count": 50,
   "id": "e7b6e715",
   "metadata": {},
   "outputs": [
    {
     "data": {
      "text/html": [
       "<div>\n",
       "<style scoped>\n",
       "    .dataframe tbody tr th:only-of-type {\n",
       "        vertical-align: middle;\n",
       "    }\n",
       "\n",
       "    .dataframe tbody tr th {\n",
       "        vertical-align: top;\n",
       "    }\n",
       "\n",
       "    .dataframe thead th {\n",
       "        text-align: right;\n",
       "    }\n",
       "</style>\n",
       "<table border=\"1\" class=\"dataframe\">\n",
       "  <thead>\n",
       "    <tr style=\"text-align: right;\">\n",
       "      <th></th>\n",
       "      <th>input_text</th>\n",
       "      <th>target_text</th>\n",
       "    </tr>\n",
       "  </thead>\n",
       "  <tbody>\n",
       "    <tr>\n",
       "      <th>0</th>\n",
       "      <td>My kids ages 6 &amp; 8 initially played with this ...</td>\n",
       "      <td>It's small, but a good size for small hands, S...</td>\n",
       "    </tr>\n",
       "    <tr>\n",
       "      <th>1</th>\n",
       "      <td>I use this rocker at my desk at home.  The roo...</td>\n",
       "      <td>My rocker's motion is smooth and fluid with na...</td>\n",
       "    </tr>\n",
       "    <tr>\n",
       "      <th>2</th>\n",
       "      <td>The Fellowes foot rocker is nice for support. ...</td>\n",
       "      <td>Raises your feet off the ground which makes yo...</td>\n",
       "    </tr>\n",
       "    <tr>\n",
       "      <th>3</th>\n",
       "      <td>These are ink pens but write like gel pens. Th...</td>\n",
       "      <td>They write smooth without skipping</td>\n",
       "    </tr>\n",
       "    <tr>\n",
       "      <th>4</th>\n",
       "      <td>Like most other reviewers, I think this is a f...</td>\n",
       "      <td>The envelope seals securely</td>\n",
       "    </tr>\n",
       "    <tr>\n",
       "      <th>5</th>\n",
       "      <td>Usually, when I use self-sealing envelopes, I ...</td>\n",
       "      <td>The glue goes all the way to the edge of the e...</td>\n",
       "    </tr>\n",
       "    <tr>\n",
       "      <th>6</th>\n",
       "      <td>Self sealing envelopes are not a new idea.  Wh...</td>\n",
       "      <td>The glue seems to seal the envelope well and k...</td>\n",
       "    </tr>\n",
       "    <tr>\n",
       "      <th>7</th>\n",
       "      <td>I've been using a Dymo LabelWriter Twin Turbo ...</td>\n",
       "      <td>The latest software synchronizes with your Out...</td>\n",
       "    </tr>\n",
       "    <tr>\n",
       "      <th>8</th>\n",
       "      <td>This is an alright label printer...here are so...</td>\n",
       "      <td>rints pretty quickly (regardless of quality of...</td>\n",
       "    </tr>\n",
       "    <tr>\n",
       "      <th>9</th>\n",
       "      <td>This is the famous Milton red stapler from the...</td>\n",
       "      <td>Paint looks like baked or dipped and not somet...</td>\n",
       "    </tr>\n",
       "    <tr>\n",
       "      <th>10</th>\n",
       "      <td>Overall very nice.Bright beam.  Uses AAA batte...</td>\n",
       "      <td>right beam, No tools needed to put in batterie...</td>\n",
       "    </tr>\n",
       "    <tr>\n",
       "      <th>11</th>\n",
       "      <td>I prefer shipping labels with permanent adhesi...</td>\n",
       "      <td>they are easily removable, will stay put when ...</td>\n",
       "    </tr>\n",
       "    <tr>\n",
       "      <th>12</th>\n",
       "      <td>Make sure you realize that these labels includ...</td>\n",
       "      <td>f you do, however, need a paper receipt consis...</td>\n",
       "    </tr>\n",
       "    <tr>\n",
       "      <th>13</th>\n",
       "      <td>Normally, I wouldn't say I loved an ink cartri...</td>\n",
       "      <td>he ink doesn't dry out, it lasts me a long time</td>\n",
       "    </tr>\n",
       "    <tr>\n",
       "      <th>14</th>\n",
       "      <td>So far, this is the only Noodler's ink I own (...</td>\n",
       "      <td>it does have a lovely color</td>\n",
       "    </tr>\n",
       "    <tr>\n",
       "      <th>15</th>\n",
       "      <td>These are nothing special, but they work well ...</td>\n",
       "      <td>they work well and are inexpensive, The grip c...</td>\n",
       "    </tr>\n",
       "    <tr>\n",
       "      <th>16</th>\n",
       "      <td>The US-100 works fine for my needs: rough and ...</td>\n",
       "      <td>ough and ready audio tracking with 32-bit Cuba...</td>\n",
       "    </tr>\n",
       "    <tr>\n",
       "      <th>17</th>\n",
       "      <td>This is an interesting, limited effect pedal. ...</td>\n",
       "      <td>On a pedal steel you can bend notes with the p...</td>\n",
       "    </tr>\n",
       "    <tr>\n",
       "      <th>18</th>\n",
       "      <td>My son needed a laser pointer for a science ex...</td>\n",
       "      <td>It does the job with a clear, red beam, The on...</td>\n",
       "    </tr>\n",
       "    <tr>\n",
       "      <th>19</th>\n",
       "      <td>I purchased this desktop stand with the hopes ...</td>\n",
       "      <td>ery solid build</td>\n",
       "    </tr>\n",
       "    <tr>\n",
       "      <th>20</th>\n",
       "      <td>Base is heavy and sturdy so your mics won't to...</td>\n",
       "      <td>Base is heavy and sturdy, The action on the he...</td>\n",
       "    </tr>\n",
       "    <tr>\n",
       "      <th>21</th>\n",
       "      <td>I bought 5 of these for live recording of my b...</td>\n",
       "      <td>adjust easil for most any amplifier height yet...</td>\n",
       "    </tr>\n",
       "    <tr>\n",
       "      <th>22</th>\n",
       "      <td>This is a pretty good stand and is relatively ...</td>\n",
       "      <td>elatively robust for its compact size, Opens e...</td>\n",
       "    </tr>\n",
       "  </tbody>\n",
       "</table>\n",
       "</div>"
      ],
      "text/plain": [
       "                                           input_text  \\\n",
       "0   My kids ages 6 & 8 initially played with this ...   \n",
       "1   I use this rocker at my desk at home.  The roo...   \n",
       "2   The Fellowes foot rocker is nice for support. ...   \n",
       "3   These are ink pens but write like gel pens. Th...   \n",
       "4   Like most other reviewers, I think this is a f...   \n",
       "5   Usually, when I use self-sealing envelopes, I ...   \n",
       "6   Self sealing envelopes are not a new idea.  Wh...   \n",
       "7   I've been using a Dymo LabelWriter Twin Turbo ...   \n",
       "8   This is an alright label printer...here are so...   \n",
       "9   This is the famous Milton red stapler from the...   \n",
       "10  Overall very nice.Bright beam.  Uses AAA batte...   \n",
       "11  I prefer shipping labels with permanent adhesi...   \n",
       "12  Make sure you realize that these labels includ...   \n",
       "13  Normally, I wouldn't say I loved an ink cartri...   \n",
       "14  So far, this is the only Noodler's ink I own (...   \n",
       "15  These are nothing special, but they work well ...   \n",
       "16  The US-100 works fine for my needs: rough and ...   \n",
       "17  This is an interesting, limited effect pedal. ...   \n",
       "18  My son needed a laser pointer for a science ex...   \n",
       "19  I purchased this desktop stand with the hopes ...   \n",
       "20  Base is heavy and sturdy so your mics won't to...   \n",
       "21  I bought 5 of these for live recording of my b...   \n",
       "22  This is a pretty good stand and is relatively ...   \n",
       "\n",
       "                                          target_text  \n",
       "0   It's small, but a good size for small hands, S...  \n",
       "1   My rocker's motion is smooth and fluid with na...  \n",
       "2   Raises your feet off the ground which makes yo...  \n",
       "3                  They write smooth without skipping  \n",
       "4                         The envelope seals securely  \n",
       "5   The glue goes all the way to the edge of the e...  \n",
       "6   The glue seems to seal the envelope well and k...  \n",
       "7   The latest software synchronizes with your Out...  \n",
       "8   rints pretty quickly (regardless of quality of...  \n",
       "9   Paint looks like baked or dipped and not somet...  \n",
       "10  right beam, No tools needed to put in batterie...  \n",
       "11  they are easily removable, will stay put when ...  \n",
       "12  f you do, however, need a paper receipt consis...  \n",
       "13    he ink doesn't dry out, it lasts me a long time  \n",
       "14                        it does have a lovely color  \n",
       "15  they work well and are inexpensive, The grip c...  \n",
       "16  ough and ready audio tracking with 32-bit Cuba...  \n",
       "17  On a pedal steel you can bend notes with the p...  \n",
       "18  It does the job with a clear, red beam, The on...  \n",
       "19                                    ery solid build  \n",
       "20  Base is heavy and sturdy, The action on the he...  \n",
       "21  adjust easil for most any amplifier height yet...  \n",
       "22  elatively robust for its compact size, Opens e...  "
      ]
     },
     "execution_count": 50,
     "metadata": {},
     "output_type": "execute_result"
    }
   ],
   "source": [
    "eval_df = eval_df.reset_index(drop=True)\n",
    "eval_df"
   ]
  },
  {
   "cell_type": "code",
   "execution_count": 12,
   "id": "ce6ccfa3",
   "metadata": {},
   "outputs": [],
   "source": [
    "def count_matches(labels, preds):\n",
    "    print(labels)\n",
    "    print(preds)\n",
    "    return sum(\n",
    "        [\n",
    "            1 if label == pred else 0\n",
    "            for label, pred in zip(labels, preds)\n",
    "        ]\n",
    "    )"
   ]
  },
  {
   "cell_type": "code",
   "execution_count": 17,
   "id": "68f29635",
   "metadata": {},
   "outputs": [],
   "source": [
    "model_args = Seq2SeqArgs()\n",
    "model_args.num_train_epochs = 10\n",
    "model_args.no_save = True\n",
    "model_args.evaluate_generated_text = True\n",
    "model_args.evaluate_during_training = True\n",
    "model_args.evaluate_during_training_verbose = True\n",
    "model_args.overwrite_output_dir = True\n",
    "\n",
    "# Initialize model\n",
    "model = Seq2SeqModel(\n",
    "    encoder_decoder_type=\"bart\",\n",
    "    encoder_decoder_name=\"facebook/bart-large\",\n",
    "    args=model_args,\n",
    "    use_cuda=False,\n",
    ")"
   ]
  },
  {
   "cell_type": "code",
   "execution_count": 44,
   "id": "9d9cd543",
   "metadata": {},
   "outputs": [
    {
     "data": {
      "application/vnd.jupyter.widget-view+json": {
       "model_id": "b23c2f860d4b490ba7c1226c95df18bb",
       "version_major": 2,
       "version_minor": 0
      },
      "text/plain": [
       "  0%|          | 0/24 [00:00<?, ?it/s]"
      ]
     },
     "metadata": {},
     "output_type": "display_data"
    },
    {
     "data": {
      "application/vnd.jupyter.widget-view+json": {
       "model_id": "8df3c3ca440c4066acfd9e24f87d4448",
       "version_major": 2,
       "version_minor": 0
      },
      "text/plain": [
       "Epoch:   0%|          | 0/10 [00:00<?, ?it/s]"
      ]
     },
     "metadata": {},
     "output_type": "display_data"
    },
    {
     "data": {
      "application/vnd.jupyter.widget-view+json": {
       "model_id": "545b76b3255844a1b06d9ff3db8b04fb",
       "version_major": 2,
       "version_minor": 0
      },
      "text/plain": [
       "Running Epoch 0 of 10:   0%|          | 0/3 [00:00<?, ?it/s]"
      ]
     },
     "metadata": {},
     "output_type": "display_data"
    },
    {
     "data": {
      "application/vnd.jupyter.widget-view+json": {
       "model_id": "ef28234dafdd4ed9a457083bc2818ddf",
       "version_major": 2,
       "version_minor": 0
      },
      "text/plain": [
       "  0%|          | 0/24 [00:00<?, ?it/s]"
      ]
     },
     "metadata": {},
     "output_type": "display_data"
    },
    {
     "data": {
      "application/vnd.jupyter.widget-view+json": {
       "model_id": "14f5a540feee45c8b8c4cf5bc9b5c9e7",
       "version_major": 2,
       "version_minor": 0
      },
      "text/plain": [
       "Generating outputs:   0%|          | 0/3 [00:00<?, ?it/s]"
      ]
     },
     "metadata": {},
     "output_type": "display_data"
    },
    {
     "name": "stdout",
     "output_type": "stream",
     "text": [
      "[\"It's small, but a good size for small hands, Sometimes the voice is hard to understand and the word has to be repeated a few times until it's understood, the Spelling Bee is very useful, The screen is a throwback to the nineties with no color, it's not loaded with words and their definitions, has an automatic shut-off after being left on and unused for about 3 minutes, The voice is plenty loud and the level can be adjusted, The games are o.k\", \"My rocker's motion is smooth and fluid with nary a squeak or creak to disturb the peace, the platform surface feels good on my bare feet, giving them a massage while I'm rocking, Since I do prefer to go barefoot especially in the warmer weather, I appreciate the Microban antimicrobial protection that the rocker provides, it seems to stay put just fine, t's lightweight and maneuverable, ssembly shouldn't be an issue, it does provide some benefits such as improved circulation and is certainly preferable to just sitting there stock still while working at the compute\", \"Raises your feet off the ground which makes you sit straighter in your seat making your back feel better., Puts less stress and pressure on my legs too., I don't really rock with it but it does seem to provide relief from pressure in my legs when I do, if you suffer from leg and back fatigue while sitting at your desk, it would help\", 'They write smooth without skipping', 'The envelope seals securely', \"The glue goes all the way to the edge of the envelope, and it stays secure until it gets to its recipient, you can't see through these envelopes to see the contents, envelopes hang up in my HP Photosmart ink jet printer, When it does go through the printer without hanging, the ink is still smeared\", 'The glue seems to seal the envelope well and keep it sealed, the glue seems to want to hold the flap down prior to use, y concern would be that with time, the flaps might actually seal open and thus be unusable., have a security feature to allow you to mail checks without risk that the contents of the envelope can be read, cannot be held up to the light and the contents read through the paper, the paper from which the envelopes are made is high quality, thick paper', 'The latest software synchronizes with your Outlook Contacts so it is \"easy breezy\" to create address labels for those who are in your Outlook address book, The disk that comes with the printer installs the software (addressing & stamps) but does NOT install the drive', \"rints pretty quickly (regardless of quality of the printjob, Dymo stamps seems to be a nice program, It takes up A LOT of space on my desk, ams A LOT!, The software is A PAIN TO INSTALL, The LabelDesigner program doesn't know what PROPORTIONS are!\", 'Paint looks like baked or dipped and not something you can easily chipped, Nice simple classic style.', 'right beam, No tools needed to put in batteries, Has some weight behind it doesn\\'t feel \"flimsy\"', 'they are easily removable, will stay put when I ship items', 'f you do, however, need a paper receipt consisting of half a page for every shipment, then this may be a good choice, it might actually be less expensive to do multiple labels per page (using a different product) and then multiple receipts per page (using standard printer paper)', \"he ink doesn't dry out, it lasts me a long time\", 'it does have a lovely color', 'they work well and are inexpensive, The grip could be more comfortable', \"ough and ready audio tracking with 32-bit Cubase 5 on 64-bit Windows 7, The documentation is minimal and only covers up to Vista, t's accurate and you'll manage with Win7, Fortunately there's enough user-information out there for just about any setup, There were a couple of hiccups during setup\", 'On a pedal steel you can bend notes with the pedals and levers, I play standing up and manipulating the volume pedal was difficult to control because of balancing on one foot and the sensitivity of some of the pedals., This pedal gives a simulation of the volume swells that give steel guitar that distinctive sound', \"It does the job with a clear, red beam, The only thing that was frustrating was that it was a push on button that released automatically when the pressure was taken off, aving it turned on without an operator holding it may be a hazard so I'm sure it is a safety feature\", 'ery solid build', 'Base is heavy and sturdy, The action on the height adjust was a little finicky, I do kind of wish there was a lighter solution to keeping it stable with a heavy mic mounted on an angle', 'adjust easil for most any amplifier height yet stable enough for on stage recoding, Stable base, good extension, easy hand grip to lock/unlock for adjusting', 'elatively robust for its compact size, Opens easily, folds up to a fairly small footprint for storage/transport, it cradles the guitar nicely, the git leans back a bit more than I would like, Makes it more difficult to hug a wall, ends up taking more 3D space than it really needs, the two footer bars are not quite level with each other, so it rocks just a little bit', 'Works perfectly for both my Martin dreadnought and my Fender Stratocaster, Solid unit, good material and construction']\n",
      "[\"It's small, but a good size for small hands. The voice is\", 'The Fellowes Foot Rocker is smooth and fluid  with nary a', 'The Fellowes foot rocker is nice for support. Raises your feet', 'These are ink pens but write like gel pens. They write smooth without skipping', 'Like most other reviewers, I think this is a fine product if you have', 'Usually, when I use self-sealing envelopes, I have to', 'Self sealing envelopes are not a new idea.  The glue seems to', \"TheI've been using this printer for about three years. I\", 'THEprintedagraagra.This is an alright label printer...', 'The color is more like an orangey (if there such a word)', 'Bright beam. Seems to be good quality construction. Has some weight behind it', 'Ilikestores have permanent adhesive.I prefer shipping labels', 'Makemakeagraagra awakechievechievechieveroudroudroudention', \"Normally, I wouldn't say I loved an ink cartridge, but having gone\", 'SoThe.As another reviewer writes, it does have a', 'These are nothing special, but they work well and are inexpensive. The grip', 'The US-100 works fine for my needs: rough and ready audio tracking', 'This is an interesting, limited effect pedal. Since the steel is always being', 'TheIt does the job with a clear, red beam. It', 'I purchased this desktop stand with the hopes that it would fully support the front', \"Base is heavy and sturdy so your mics won't topple over. While\", 'I bought 5 of these for live recording of my band. They adjust eas', 'This is a pretty good stand and is relatively robust for its compact size.', 'WorksSolid.Works perfectly for both my Martin dreadnought']\n"
     ]
    },
    {
     "data": {
      "application/vnd.jupyter.widget-view+json": {
       "model_id": "db50c5d6b38a4675b3ed31d1aea4dfd3",
       "version_major": 2,
       "version_minor": 0
      },
      "text/plain": [
       "Running Epoch 1 of 10:   0%|          | 0/3 [00:00<?, ?it/s]"
      ]
     },
     "metadata": {},
     "output_type": "display_data"
    },
    {
     "data": {
      "application/vnd.jupyter.widget-view+json": {
       "model_id": "9015fd3d660741098727a31441c3a176",
       "version_major": 2,
       "version_minor": 0
      },
      "text/plain": [
       "  0%|          | 0/24 [00:00<?, ?it/s]"
      ]
     },
     "metadata": {},
     "output_type": "display_data"
    },
    {
     "data": {
      "application/vnd.jupyter.widget-view+json": {
       "model_id": "d0037d4a7f04489a861c02a4113e5c13",
       "version_major": 2,
       "version_minor": 0
      },
      "text/plain": [
       "Generating outputs:   0%|          | 0/3 [00:00<?, ?it/s]"
      ]
     },
     "metadata": {},
     "output_type": "display_data"
    },
    {
     "name": "stdout",
     "output_type": "stream",
     "text": [
      "[\"It's small, but a good size for small hands, Sometimes the voice is hard to understand and the word has to be repeated a few times until it's understood, the Spelling Bee is very useful, The screen is a throwback to the nineties with no color, it's not loaded with words and their definitions, has an automatic shut-off after being left on and unused for about 3 minutes, The voice is plenty loud and the level can be adjusted, The games are o.k\", \"My rocker's motion is smooth and fluid with nary a squeak or creak to disturb the peace, the platform surface feels good on my bare feet, giving them a massage while I'm rocking, Since I do prefer to go barefoot especially in the warmer weather, I appreciate the Microban antimicrobial protection that the rocker provides, it seems to stay put just fine, t's lightweight and maneuverable, ssembly shouldn't be an issue, it does provide some benefits such as improved circulation and is certainly preferable to just sitting there stock still while working at the compute\", \"Raises your feet off the ground which makes you sit straighter in your seat making your back feel better., Puts less stress and pressure on my legs too., I don't really rock with it but it does seem to provide relief from pressure in my legs when I do, if you suffer from leg and back fatigue while sitting at your desk, it would help\", 'They write smooth without skipping', 'The envelope seals securely', \"The glue goes all the way to the edge of the envelope, and it stays secure until it gets to its recipient, you can't see through these envelopes to see the contents, envelopes hang up in my HP Photosmart ink jet printer, When it does go through the printer without hanging, the ink is still smeared\", 'The glue seems to seal the envelope well and keep it sealed, the glue seems to want to hold the flap down prior to use, y concern would be that with time, the flaps might actually seal open and thus be unusable., have a security feature to allow you to mail checks without risk that the contents of the envelope can be read, cannot be held up to the light and the contents read through the paper, the paper from which the envelopes are made is high quality, thick paper', 'The latest software synchronizes with your Outlook Contacts so it is \"easy breezy\" to create address labels for those who are in your Outlook address book, The disk that comes with the printer installs the software (addressing & stamps) but does NOT install the drive', \"rints pretty quickly (regardless of quality of the printjob, Dymo stamps seems to be a nice program, It takes up A LOT of space on my desk, ams A LOT!, The software is A PAIN TO INSTALL, The LabelDesigner program doesn't know what PROPORTIONS are!\", 'Paint looks like baked or dipped and not something you can easily chipped, Nice simple classic style.', 'right beam, No tools needed to put in batteries, Has some weight behind it doesn\\'t feel \"flimsy\"', 'they are easily removable, will stay put when I ship items', 'f you do, however, need a paper receipt consisting of half a page for every shipment, then this may be a good choice, it might actually be less expensive to do multiple labels per page (using a different product) and then multiple receipts per page (using standard printer paper)', \"he ink doesn't dry out, it lasts me a long time\", 'it does have a lovely color', 'they work well and are inexpensive, The grip could be more comfortable', \"ough and ready audio tracking with 32-bit Cubase 5 on 64-bit Windows 7, The documentation is minimal and only covers up to Vista, t's accurate and you'll manage with Win7, Fortunately there's enough user-information out there for just about any setup, There were a couple of hiccups during setup\", 'On a pedal steel you can bend notes with the pedals and levers, I play standing up and manipulating the volume pedal was difficult to control because of balancing on one foot and the sensitivity of some of the pedals., This pedal gives a simulation of the volume swells that give steel guitar that distinctive sound', \"It does the job with a clear, red beam, The only thing that was frustrating was that it was a push on button that released automatically when the pressure was taken off, aving it turned on without an operator holding it may be a hazard so I'm sure it is a safety feature\", 'ery solid build', 'Base is heavy and sturdy, The action on the height adjust was a little finicky, I do kind of wish there was a lighter solution to keeping it stable with a heavy mic mounted on an angle', 'adjust easil for most any amplifier height yet stable enough for on stage recoding, Stable base, good extension, easy hand grip to lock/unlock for adjusting', 'elatively robust for its compact size, Opens easily, folds up to a fairly small footprint for storage/transport, it cradles the guitar nicely, the git leans back a bit more than I would like, Makes it more difficult to hug a wall, ends up taking more 3D space than it really needs, the two footer bars are not quite level with each other, so it rocks just a little bit', 'Works perfectly for both my Martin dreadnought and my Fender Stratocaster, Solid unit, good material and construction']\n",
      "[\"It's small, but a good size for small hands. The voice is\", 'The Fellowes Foot Rocker is smooth and fluid  with nary a', 'The Fellowes foot rocker is nice for support. Raises your feet', \"These are ink pens but write like gel pens but aren't bulky. They\", 'TheLike most other reviewers, I think this is a fine product', 'Usually, when I use self-sealing envelopes, I have to', 'Self sealing envelopes are not a new idea.  The glue seems to', \"TheI've been using a Dymo LabelWriter Twin Turbo\", \"printed seems to be a nice program (although I haven't used it\", 'TheniceThis thing is built like a German tank.', 'Bright beam. Seems to be good quality construction. Uses AAA batteries. Doesn', 'Ilike.I prefer shipping labels with permanent adhesive. ', 'Makemakeagraagra awakeends awake awake.Make sure you', \"Normally, I wouldn't say I loved an ink cartridge, but having gone\", \"So far, this is the only Noodler's ink I own (\", 'These are nothing special, but they work well and are inexpensive. The grip', 'The US-100 works fine for my needs: rough and ready audio tracking', 'This is an interesting, limited effect pedal. Since the steel is always being', 'TheIt does the job with a clear, red beam of light', 'I purchased this desktop stand with the hopes that it would fully support the front', \"Base is heavy and sturdy so your mics won't topple over. While\", 'I bought 5 of these for live recording of my band. They adjust eas', 'The stand is relatively robust for its compact size, and is relatively sturdy for', 'Works works.Works perfectly for both my Martin dreadnought']\n"
     ]
    },
    {
     "data": {
      "application/vnd.jupyter.widget-view+json": {
       "model_id": "deab249c6aaf4ea1a84871b753d4d3a0",
       "version_major": 2,
       "version_minor": 0
      },
      "text/plain": [
       "Running Epoch 2 of 10:   0%|          | 0/3 [00:00<?, ?it/s]"
      ]
     },
     "metadata": {},
     "output_type": "display_data"
    },
    {
     "data": {
      "application/vnd.jupyter.widget-view+json": {
       "model_id": "b7b62bf49fb14cd892926964863193e3",
       "version_major": 2,
       "version_minor": 0
      },
      "text/plain": [
       "  0%|          | 0/24 [00:00<?, ?it/s]"
      ]
     },
     "metadata": {},
     "output_type": "display_data"
    },
    {
     "data": {
      "application/vnd.jupyter.widget-view+json": {
       "model_id": "6f6407832191405d83ac2284dc12173c",
       "version_major": 2,
       "version_minor": 0
      },
      "text/plain": [
       "Generating outputs:   0%|          | 0/3 [00:00<?, ?it/s]"
      ]
     },
     "metadata": {},
     "output_type": "display_data"
    },
    {
     "name": "stdout",
     "output_type": "stream",
     "text": [
      "[\"It's small, but a good size for small hands, Sometimes the voice is hard to understand and the word has to be repeated a few times until it's understood, the Spelling Bee is very useful, The screen is a throwback to the nineties with no color, it's not loaded with words and their definitions, has an automatic shut-off after being left on and unused for about 3 minutes, The voice is plenty loud and the level can be adjusted, The games are o.k\", \"My rocker's motion is smooth and fluid with nary a squeak or creak to disturb the peace, the platform surface feels good on my bare feet, giving them a massage while I'm rocking, Since I do prefer to go barefoot especially in the warmer weather, I appreciate the Microban antimicrobial protection that the rocker provides, it seems to stay put just fine, t's lightweight and maneuverable, ssembly shouldn't be an issue, it does provide some benefits such as improved circulation and is certainly preferable to just sitting there stock still while working at the compute\", \"Raises your feet off the ground which makes you sit straighter in your seat making your back feel better., Puts less stress and pressure on my legs too., I don't really rock with it but it does seem to provide relief from pressure in my legs when I do, if you suffer from leg and back fatigue while sitting at your desk, it would help\", 'They write smooth without skipping', 'The envelope seals securely', \"The glue goes all the way to the edge of the envelope, and it stays secure until it gets to its recipient, you can't see through these envelopes to see the contents, envelopes hang up in my HP Photosmart ink jet printer, When it does go through the printer without hanging, the ink is still smeared\", 'The glue seems to seal the envelope well and keep it sealed, the glue seems to want to hold the flap down prior to use, y concern would be that with time, the flaps might actually seal open and thus be unusable., have a security feature to allow you to mail checks without risk that the contents of the envelope can be read, cannot be held up to the light and the contents read through the paper, the paper from which the envelopes are made is high quality, thick paper', 'The latest software synchronizes with your Outlook Contacts so it is \"easy breezy\" to create address labels for those who are in your Outlook address book, The disk that comes with the printer installs the software (addressing & stamps) but does NOT install the drive', \"rints pretty quickly (regardless of quality of the printjob, Dymo stamps seems to be a nice program, It takes up A LOT of space on my desk, ams A LOT!, The software is A PAIN TO INSTALL, The LabelDesigner program doesn't know what PROPORTIONS are!\", 'Paint looks like baked or dipped and not something you can easily chipped, Nice simple classic style.', 'right beam, No tools needed to put in batteries, Has some weight behind it doesn\\'t feel \"flimsy\"', 'they are easily removable, will stay put when I ship items', 'f you do, however, need a paper receipt consisting of half a page for every shipment, then this may be a good choice, it might actually be less expensive to do multiple labels per page (using a different product) and then multiple receipts per page (using standard printer paper)', \"he ink doesn't dry out, it lasts me a long time\", 'it does have a lovely color', 'they work well and are inexpensive, The grip could be more comfortable', \"ough and ready audio tracking with 32-bit Cubase 5 on 64-bit Windows 7, The documentation is minimal and only covers up to Vista, t's accurate and you'll manage with Win7, Fortunately there's enough user-information out there for just about any setup, There were a couple of hiccups during setup\", 'On a pedal steel you can bend notes with the pedals and levers, I play standing up and manipulating the volume pedal was difficult to control because of balancing on one foot and the sensitivity of some of the pedals., This pedal gives a simulation of the volume swells that give steel guitar that distinctive sound', \"It does the job with a clear, red beam, The only thing that was frustrating was that it was a push on button that released automatically when the pressure was taken off, aving it turned on without an operator holding it may be a hazard so I'm sure it is a safety feature\", 'ery solid build', 'Base is heavy and sturdy, The action on the height adjust was a little finicky, I do kind of wish there was a lighter solution to keeping it stable with a heavy mic mounted on an angle', 'adjust easil for most any amplifier height yet stable enough for on stage recoding, Stable base, good extension, easy hand grip to lock/unlock for adjusting', 'elatively robust for its compact size, Opens easily, folds up to a fairly small footprint for storage/transport, it cradles the guitar nicely, the git leans back a bit more than I would like, Makes it more difficult to hug a wall, ends up taking more 3D space than it really needs, the two footer bars are not quite level with each other, so it rocks just a little bit', 'Works perfectly for both my Martin dreadnought and my Fender Stratocaster, Solid unit, good material and construction']\n",
      "[\"It's small, but a good size for small hands, the level can\", ', the platform surface feels good on my bare feet, giving them a massage', ', it does seem to provide relief from pressure in my legs when I do', 'These are ink pens but write like gel pens but have a gel pens,', ', I probably will never purchase this product again, but that says more about', ', I have to tape the edges to keep them from coming unsealed during mailing,', ', the glue seems to seal the envelope well and keep it sealed, the', ', this printer will do the trick, this is \"easy breezy\"', \", seems to be a nice program (although I haven't used it yet\", ', the color is more like an orangey (if there such a word', 'Bright beam, good quality construction, Doesn\\'t feel \"flimsy\".', ', probably not, but they are easily removable & I prefer something that I know will', 'Make sure you realize that these labels include only one label per sheet (about', \", it prints, it lasts me a long time, and the ink doesn't dry\", ', it does have a lovely color -- rather a greenish/brown rather', \", but they work well and are inexpensive, but it's a step up\", \", you can cable to the US-100's line input via RCA\", ', the volume pedal was difficult to control because of balancing on one foot and', ', it was a push on button that released automatically when the pressure was taken', ', never felt cheap in any way, never really felt cheap, never has', \"Base is heavy and sturdy so your mics won't topple over, the\", ', easy hand grip to lock/lock to lock, easy to lock and', ', it folds up to a fairly small footprint for storage/transport, and it', 'Works perfectly for both my Martin dreadnought and my Fender Stratoc']\n"
     ]
    },
    {
     "data": {
      "application/vnd.jupyter.widget-view+json": {
       "model_id": "250a7f8646814281a6ad11ee867a4df7",
       "version_major": 2,
       "version_minor": 0
      },
      "text/plain": [
       "Running Epoch 3 of 10:   0%|          | 0/3 [00:00<?, ?it/s]"
      ]
     },
     "metadata": {},
     "output_type": "display_data"
    },
    {
     "data": {
      "application/vnd.jupyter.widget-view+json": {
       "model_id": "6b44800b3c9747da918d76b4bf44be4c",
       "version_major": 2,
       "version_minor": 0
      },
      "text/plain": [
       "  0%|          | 0/24 [00:00<?, ?it/s]"
      ]
     },
     "metadata": {},
     "output_type": "display_data"
    },
    {
     "data": {
      "application/vnd.jupyter.widget-view+json": {
       "model_id": "ecbf5c7718034df78b4fb4a1d6f0a6bb",
       "version_major": 2,
       "version_minor": 0
      },
      "text/plain": [
       "Generating outputs:   0%|          | 0/3 [00:00<?, ?it/s]"
      ]
     },
     "metadata": {},
     "output_type": "display_data"
    },
    {
     "name": "stdout",
     "output_type": "stream",
     "text": [
      "[\"It's small, but a good size for small hands, Sometimes the voice is hard to understand and the word has to be repeated a few times until it's understood, the Spelling Bee is very useful, The screen is a throwback to the nineties with no color, it's not loaded with words and their definitions, has an automatic shut-off after being left on and unused for about 3 minutes, The voice is plenty loud and the level can be adjusted, The games are o.k\", \"My rocker's motion is smooth and fluid with nary a squeak or creak to disturb the peace, the platform surface feels good on my bare feet, giving them a massage while I'm rocking, Since I do prefer to go barefoot especially in the warmer weather, I appreciate the Microban antimicrobial protection that the rocker provides, it seems to stay put just fine, t's lightweight and maneuverable, ssembly shouldn't be an issue, it does provide some benefits such as improved circulation and is certainly preferable to just sitting there stock still while working at the compute\", \"Raises your feet off the ground which makes you sit straighter in your seat making your back feel better., Puts less stress and pressure on my legs too., I don't really rock with it but it does seem to provide relief from pressure in my legs when I do, if you suffer from leg and back fatigue while sitting at your desk, it would help\", 'They write smooth without skipping', 'The envelope seals securely', \"The glue goes all the way to the edge of the envelope, and it stays secure until it gets to its recipient, you can't see through these envelopes to see the contents, envelopes hang up in my HP Photosmart ink jet printer, When it does go through the printer without hanging, the ink is still smeared\", 'The glue seems to seal the envelope well and keep it sealed, the glue seems to want to hold the flap down prior to use, y concern would be that with time, the flaps might actually seal open and thus be unusable., have a security feature to allow you to mail checks without risk that the contents of the envelope can be read, cannot be held up to the light and the contents read through the paper, the paper from which the envelopes are made is high quality, thick paper', 'The latest software synchronizes with your Outlook Contacts so it is \"easy breezy\" to create address labels for those who are in your Outlook address book, The disk that comes with the printer installs the software (addressing & stamps) but does NOT install the drive', \"rints pretty quickly (regardless of quality of the printjob, Dymo stamps seems to be a nice program, It takes up A LOT of space on my desk, ams A LOT!, The software is A PAIN TO INSTALL, The LabelDesigner program doesn't know what PROPORTIONS are!\", 'Paint looks like baked or dipped and not something you can easily chipped, Nice simple classic style.', 'right beam, No tools needed to put in batteries, Has some weight behind it doesn\\'t feel \"flimsy\"', 'they are easily removable, will stay put when I ship items', 'f you do, however, need a paper receipt consisting of half a page for every shipment, then this may be a good choice, it might actually be less expensive to do multiple labels per page (using a different product) and then multiple receipts per page (using standard printer paper)', \"he ink doesn't dry out, it lasts me a long time\", 'it does have a lovely color', 'they work well and are inexpensive, The grip could be more comfortable', \"ough and ready audio tracking with 32-bit Cubase 5 on 64-bit Windows 7, The documentation is minimal and only covers up to Vista, t's accurate and you'll manage with Win7, Fortunately there's enough user-information out there for just about any setup, There were a couple of hiccups during setup\", 'On a pedal steel you can bend notes with the pedals and levers, I play standing up and manipulating the volume pedal was difficult to control because of balancing on one foot and the sensitivity of some of the pedals., This pedal gives a simulation of the volume swells that give steel guitar that distinctive sound', \"It does the job with a clear, red beam, The only thing that was frustrating was that it was a push on button that released automatically when the pressure was taken off, aving it turned on without an operator holding it may be a hazard so I'm sure it is a safety feature\", 'ery solid build', 'Base is heavy and sturdy, The action on the height adjust was a little finicky, I do kind of wish there was a lighter solution to keeping it stable with a heavy mic mounted on an angle', 'adjust easil for most any amplifier height yet stable enough for on stage recoding, Stable base, good extension, easy hand grip to lock/unlock for adjusting', 'elatively robust for its compact size, Opens easily, folds up to a fairly small footprint for storage/transport, it cradles the guitar nicely, the git leans back a bit more than I would like, Makes it more difficult to hug a wall, ends up taking more 3D space than it really needs, the two footer bars are not quite level with each other, so it rocks just a little bit', 'Works perfectly for both my Martin dreadnought and my Fender Stratocaster, Solid unit, good material and construction']\n",
      "[', but a good size for small hands, the level can be adjusted,', ', the platform surface feels good on my bare feet, giving them a massage', ', it does seem to provide relief from pressure in my legs when I do', \", they write smooth without skipping, they're like gel pens but write like\", ', I probably will never purchase this product again, but that says more about', ', the glue goes all the way to the edge of the envelope, and', ', the glue seems to seal the envelope well and keep it sealed, the', ', the disk that comes with the software synchronizes with your Outlook Contacts', \", seems to be a nice program (although I haven't used it yet\", ', the color is more like an orangey (if there such a word', 'Bright beam, good quality construction, Doesn\\'t feel \"flimsy\".', ', probably not, but they are easily removable & I prefer something that I', ', it might actually be less expensive to do multiple labels per page (using', ', it works, it prints, it lasts me a long time, and', ', it does have a lovely color -- rather a greenish/brown rather', \", but they work well and are inexpensive, but it's a step up\", \", you can cable to the US-100's line input via RCA\", ', the volume pedal was difficult to control because of balancing on one foot and', ', red beam does the job with a clear, red light, it does', ', never felt cheap in any way, never got heavy, never really felt', \"Base is heavy and sturdy so your mics won't topple over, the\", ', easy hand grip to lock/unlock for adjusting, easy to place', ', the two footer bars are not quite level with each other, so', ', good material and construction, though it is made in China apparently--but']\n"
     ]
    },
    {
     "data": {
      "application/vnd.jupyter.widget-view+json": {
       "model_id": "5099b14aec6e41e88713eb1546d3a72a",
       "version_major": 2,
       "version_minor": 0
      },
      "text/plain": [
       "Running Epoch 4 of 10:   0%|          | 0/3 [00:00<?, ?it/s]"
      ]
     },
     "metadata": {},
     "output_type": "display_data"
    },
    {
     "data": {
      "application/vnd.jupyter.widget-view+json": {
       "model_id": "79f703cbe16547799c4c88857c715972",
       "version_major": 2,
       "version_minor": 0
      },
      "text/plain": [
       "  0%|          | 0/24 [00:00<?, ?it/s]"
      ]
     },
     "metadata": {},
     "output_type": "display_data"
    },
    {
     "data": {
      "application/vnd.jupyter.widget-view+json": {
       "model_id": "88aa9613401644248bbcaaaa440a2e86",
       "version_major": 2,
       "version_minor": 0
      },
      "text/plain": [
       "Generating outputs:   0%|          | 0/3 [00:00<?, ?it/s]"
      ]
     },
     "metadata": {},
     "output_type": "display_data"
    },
    {
     "name": "stdout",
     "output_type": "stream",
     "text": [
      "[\"It's small, but a good size for small hands, Sometimes the voice is hard to understand and the word has to be repeated a few times until it's understood, the Spelling Bee is very useful, The screen is a throwback to the nineties with no color, it's not loaded with words and their definitions, has an automatic shut-off after being left on and unused for about 3 minutes, The voice is plenty loud and the level can be adjusted, The games are o.k\", \"My rocker's motion is smooth and fluid with nary a squeak or creak to disturb the peace, the platform surface feels good on my bare feet, giving them a massage while I'm rocking, Since I do prefer to go barefoot especially in the warmer weather, I appreciate the Microban antimicrobial protection that the rocker provides, it seems to stay put just fine, t's lightweight and maneuverable, ssembly shouldn't be an issue, it does provide some benefits such as improved circulation and is certainly preferable to just sitting there stock still while working at the compute\", \"Raises your feet off the ground which makes you sit straighter in your seat making your back feel better., Puts less stress and pressure on my legs too., I don't really rock with it but it does seem to provide relief from pressure in my legs when I do, if you suffer from leg and back fatigue while sitting at your desk, it would help\", 'They write smooth without skipping', 'The envelope seals securely', \"The glue goes all the way to the edge of the envelope, and it stays secure until it gets to its recipient, you can't see through these envelopes to see the contents, envelopes hang up in my HP Photosmart ink jet printer, When it does go through the printer without hanging, the ink is still smeared\", 'The glue seems to seal the envelope well and keep it sealed, the glue seems to want to hold the flap down prior to use, y concern would be that with time, the flaps might actually seal open and thus be unusable., have a security feature to allow you to mail checks without risk that the contents of the envelope can be read, cannot be held up to the light and the contents read through the paper, the paper from which the envelopes are made is high quality, thick paper', 'The latest software synchronizes with your Outlook Contacts so it is \"easy breezy\" to create address labels for those who are in your Outlook address book, The disk that comes with the printer installs the software (addressing & stamps) but does NOT install the drive', \"rints pretty quickly (regardless of quality of the printjob, Dymo stamps seems to be a nice program, It takes up A LOT of space on my desk, ams A LOT!, The software is A PAIN TO INSTALL, The LabelDesigner program doesn't know what PROPORTIONS are!\", 'Paint looks like baked or dipped and not something you can easily chipped, Nice simple classic style.', 'right beam, No tools needed to put in batteries, Has some weight behind it doesn\\'t feel \"flimsy\"', 'they are easily removable, will stay put when I ship items', 'f you do, however, need a paper receipt consisting of half a page for every shipment, then this may be a good choice, it might actually be less expensive to do multiple labels per page (using a different product) and then multiple receipts per page (using standard printer paper)', \"he ink doesn't dry out, it lasts me a long time\", 'it does have a lovely color', 'they work well and are inexpensive, The grip could be more comfortable', \"ough and ready audio tracking with 32-bit Cubase 5 on 64-bit Windows 7, The documentation is minimal and only covers up to Vista, t's accurate and you'll manage with Win7, Fortunately there's enough user-information out there for just about any setup, There were a couple of hiccups during setup\", 'On a pedal steel you can bend notes with the pedals and levers, I play standing up and manipulating the volume pedal was difficult to control because of balancing on one foot and the sensitivity of some of the pedals., This pedal gives a simulation of the volume swells that give steel guitar that distinctive sound', \"It does the job with a clear, red beam, The only thing that was frustrating was that it was a push on button that released automatically when the pressure was taken off, aving it turned on without an operator holding it may be a hazard so I'm sure it is a safety feature\", 'ery solid build', 'Base is heavy and sturdy, The action on the height adjust was a little finicky, I do kind of wish there was a lighter solution to keeping it stable with a heavy mic mounted on an angle', 'adjust easil for most any amplifier height yet stable enough for on stage recoding, Stable base, good extension, easy hand grip to lock/unlock for adjusting', 'elatively robust for its compact size, Opens easily, folds up to a fairly small footprint for storage/transport, it cradles the guitar nicely, the git leans back a bit more than I would like, Makes it more difficult to hug a wall, ends up taking more 3D space than it really needs, the two footer bars are not quite level with each other, so it rocks just a little bit', 'Works perfectly for both my Martin dreadnought and my Fender Stratocaster, Solid unit, good material and construction']\n",
      "[', but a good size for small hands, The voice is plenty loud and', ', the platform surface feels good on my bare feet, giving them a massage', ', it does seem to provide relief from pressure in my legs when I do', ', write smooth without skipping', ', I probably will never purchase this product again, but that says more about', ', the glue goes all the way to the edge of the envelope, and', ', the glue seems to seal the envelope well and keep it sealed', ', the disk that comes with the printer is easy breezy to create address', \", seems to be a nice program (although I haven't used it yet\", ', the color is more like an orangey (if there such a word', 'Bright beam, good quality construction, Doesn\\'t feel \"flimsy\".', ', easily removable & I prefer something that I know will stay put when I', ', do you really need a paper receipt for every label, this is wasteful', ', it works, it prints, it lasts me a long time, and', ', it does have a lovely color -- rather a greenish/brown rather', ', but they work well and are inexpensive', \", you can cable to the US-100's line input via RCA\", ', the volume pedal was difficult to control because of balancing on one foot and', ', red beam does the job with a clear, red light, it does', ', never felt cheap in any way, never got heavy, never looked cheap', \"Base is heavy and sturdy so your mics won't topple over\", ', easy hand grip to lock/unlock for adjusting', ', Opens easily and folds up to a fairly small footprint for storage/', ', good material and construction, though it is made in China apparently--but']\n"
     ]
    },
    {
     "data": {
      "application/vnd.jupyter.widget-view+json": {
       "model_id": "6537022a883a442095859df0205e8e25",
       "version_major": 2,
       "version_minor": 0
      },
      "text/plain": [
       "Running Epoch 5 of 10:   0%|          | 0/3 [00:00<?, ?it/s]"
      ]
     },
     "metadata": {},
     "output_type": "display_data"
    },
    {
     "data": {
      "application/vnd.jupyter.widget-view+json": {
       "model_id": "51eec22e82b242f9889ce612ce8e1f89",
       "version_major": 2,
       "version_minor": 0
      },
      "text/plain": [
       "  0%|          | 0/24 [00:00<?, ?it/s]"
      ]
     },
     "metadata": {},
     "output_type": "display_data"
    },
    {
     "data": {
      "application/vnd.jupyter.widget-view+json": {
       "model_id": "51311bd33ec64a74a75a98ae5756781c",
       "version_major": 2,
       "version_minor": 0
      },
      "text/plain": [
       "Generating outputs:   0%|          | 0/3 [00:00<?, ?it/s]"
      ]
     },
     "metadata": {},
     "output_type": "display_data"
    },
    {
     "name": "stdout",
     "output_type": "stream",
     "text": [
      "[\"It's small, but a good size for small hands, Sometimes the voice is hard to understand and the word has to be repeated a few times until it's understood, the Spelling Bee is very useful, The screen is a throwback to the nineties with no color, it's not loaded with words and their definitions, has an automatic shut-off after being left on and unused for about 3 minutes, The voice is plenty loud and the level can be adjusted, The games are o.k\", \"My rocker's motion is smooth and fluid with nary a squeak or creak to disturb the peace, the platform surface feels good on my bare feet, giving them a massage while I'm rocking, Since I do prefer to go barefoot especially in the warmer weather, I appreciate the Microban antimicrobial protection that the rocker provides, it seems to stay put just fine, t's lightweight and maneuverable, ssembly shouldn't be an issue, it does provide some benefits such as improved circulation and is certainly preferable to just sitting there stock still while working at the compute\", \"Raises your feet off the ground which makes you sit straighter in your seat making your back feel better., Puts less stress and pressure on my legs too., I don't really rock with it but it does seem to provide relief from pressure in my legs when I do, if you suffer from leg and back fatigue while sitting at your desk, it would help\", 'They write smooth without skipping', 'The envelope seals securely', \"The glue goes all the way to the edge of the envelope, and it stays secure until it gets to its recipient, you can't see through these envelopes to see the contents, envelopes hang up in my HP Photosmart ink jet printer, When it does go through the printer without hanging, the ink is still smeared\", 'The glue seems to seal the envelope well and keep it sealed, the glue seems to want to hold the flap down prior to use, y concern would be that with time, the flaps might actually seal open and thus be unusable., have a security feature to allow you to mail checks without risk that the contents of the envelope can be read, cannot be held up to the light and the contents read through the paper, the paper from which the envelopes are made is high quality, thick paper', 'The latest software synchronizes with your Outlook Contacts so it is \"easy breezy\" to create address labels for those who are in your Outlook address book, The disk that comes with the printer installs the software (addressing & stamps) but does NOT install the drive', \"rints pretty quickly (regardless of quality of the printjob, Dymo stamps seems to be a nice program, It takes up A LOT of space on my desk, ams A LOT!, The software is A PAIN TO INSTALL, The LabelDesigner program doesn't know what PROPORTIONS are!\", 'Paint looks like baked or dipped and not something you can easily chipped, Nice simple classic style.', 'right beam, No tools needed to put in batteries, Has some weight behind it doesn\\'t feel \"flimsy\"', 'they are easily removable, will stay put when I ship items', 'f you do, however, need a paper receipt consisting of half a page for every shipment, then this may be a good choice, it might actually be less expensive to do multiple labels per page (using a different product) and then multiple receipts per page (using standard printer paper)', \"he ink doesn't dry out, it lasts me a long time\", 'it does have a lovely color', 'they work well and are inexpensive, The grip could be more comfortable', \"ough and ready audio tracking with 32-bit Cubase 5 on 64-bit Windows 7, The documentation is minimal and only covers up to Vista, t's accurate and you'll manage with Win7, Fortunately there's enough user-information out there for just about any setup, There were a couple of hiccups during setup\", 'On a pedal steel you can bend notes with the pedals and levers, I play standing up and manipulating the volume pedal was difficult to control because of balancing on one foot and the sensitivity of some of the pedals., This pedal gives a simulation of the volume swells that give steel guitar that distinctive sound', \"It does the job with a clear, red beam, The only thing that was frustrating was that it was a push on button that released automatically when the pressure was taken off, aving it turned on without an operator holding it may be a hazard so I'm sure it is a safety feature\", 'ery solid build', 'Base is heavy and sturdy, The action on the height adjust was a little finicky, I do kind of wish there was a lighter solution to keeping it stable with a heavy mic mounted on an angle', 'adjust easil for most any amplifier height yet stable enough for on stage recoding, Stable base, good extension, easy hand grip to lock/unlock for adjusting', 'elatively robust for its compact size, Opens easily, folds up to a fairly small footprint for storage/transport, it cradles the guitar nicely, the git leans back a bit more than I would like, Makes it more difficult to hug a wall, ends up taking more 3D space than it really needs, the two footer bars are not quite level with each other, so it rocks just a little bit', 'Works perfectly for both my Martin dreadnought and my Fender Stratocaster, Solid unit, good material and construction']\n",
      "[', but a good size for small hands, The voice is plenty loud and', ', the platform surface feels good on my bare feet, giving them a massage', ', it does seem to provide relief from pressure in my legs when I do', ', write smooth without skipping', ', The envelope seals securely and provides a great deal of security, this will', ', The glue goes all the way to the edge of the envelope, and', ', the glue seems to seal the envelope well and keep it sealed', ', the disk that comes with the printer is easy breezy to create address', \", seems to be a nice program (although I haven't used it yet\", ', The color is more like an orangey (if there such a word', 'Bright beam, good quality construction, Uses AAA batteries', ', easily removable & I prefer something that I know will stay put when I', ', do you really need a paper receipt for every label, use a different', ', it works, it prints, it lasts me a long time, and', ', it does have a lovely color -- rather a greenish/brown rather', ', but they work well and are inexpensive', \", you can cable to the US-100's line input via RCA\", ', the volume pedal was difficult to control because of balancing on one foot and', ', red beam does the job with a clear, red light, no pressure', ', never felt cheap in any way, never got any use, never looked', \"Base is heavy and sturdy so your mics won't topple over\", ', easy hand grip to lock/unlock for adjusting', ', Opens easily and folds up to a fairly small footprint for storage/', 'Works perfectly for both my Martin dreadnought and my Fender Stratoc']\n"
     ]
    },
    {
     "data": {
      "application/vnd.jupyter.widget-view+json": {
       "model_id": "558a6f1b24164962bef52efba0f92e35",
       "version_major": 2,
       "version_minor": 0
      },
      "text/plain": [
       "Running Epoch 6 of 10:   0%|          | 0/3 [00:00<?, ?it/s]"
      ]
     },
     "metadata": {},
     "output_type": "display_data"
    },
    {
     "data": {
      "application/vnd.jupyter.widget-view+json": {
       "model_id": "09512e9e82b14e74bed8782c728b6642",
       "version_major": 2,
       "version_minor": 0
      },
      "text/plain": [
       "  0%|          | 0/24 [00:00<?, ?it/s]"
      ]
     },
     "metadata": {},
     "output_type": "display_data"
    },
    {
     "data": {
      "application/vnd.jupyter.widget-view+json": {
       "model_id": "dcd2da35059548e983cef9fded7b4c77",
       "version_major": 2,
       "version_minor": 0
      },
      "text/plain": [
       "Generating outputs:   0%|          | 0/3 [00:00<?, ?it/s]"
      ]
     },
     "metadata": {},
     "output_type": "display_data"
    },
    {
     "name": "stdout",
     "output_type": "stream",
     "text": [
      "[\"It's small, but a good size for small hands, Sometimes the voice is hard to understand and the word has to be repeated a few times until it's understood, the Spelling Bee is very useful, The screen is a throwback to the nineties with no color, it's not loaded with words and their definitions, has an automatic shut-off after being left on and unused for about 3 minutes, The voice is plenty loud and the level can be adjusted, The games are o.k\", \"My rocker's motion is smooth and fluid with nary a squeak or creak to disturb the peace, the platform surface feels good on my bare feet, giving them a massage while I'm rocking, Since I do prefer to go barefoot especially in the warmer weather, I appreciate the Microban antimicrobial protection that the rocker provides, it seems to stay put just fine, t's lightweight and maneuverable, ssembly shouldn't be an issue, it does provide some benefits such as improved circulation and is certainly preferable to just sitting there stock still while working at the compute\", \"Raises your feet off the ground which makes you sit straighter in your seat making your back feel better., Puts less stress and pressure on my legs too., I don't really rock with it but it does seem to provide relief from pressure in my legs when I do, if you suffer from leg and back fatigue while sitting at your desk, it would help\", 'They write smooth without skipping', 'The envelope seals securely', \"The glue goes all the way to the edge of the envelope, and it stays secure until it gets to its recipient, you can't see through these envelopes to see the contents, envelopes hang up in my HP Photosmart ink jet printer, When it does go through the printer without hanging, the ink is still smeared\", 'The glue seems to seal the envelope well and keep it sealed, the glue seems to want to hold the flap down prior to use, y concern would be that with time, the flaps might actually seal open and thus be unusable., have a security feature to allow you to mail checks without risk that the contents of the envelope can be read, cannot be held up to the light and the contents read through the paper, the paper from which the envelopes are made is high quality, thick paper', 'The latest software synchronizes with your Outlook Contacts so it is \"easy breezy\" to create address labels for those who are in your Outlook address book, The disk that comes with the printer installs the software (addressing & stamps) but does NOT install the drive', \"rints pretty quickly (regardless of quality of the printjob, Dymo stamps seems to be a nice program, It takes up A LOT of space on my desk, ams A LOT!, The software is A PAIN TO INSTALL, The LabelDesigner program doesn't know what PROPORTIONS are!\", 'Paint looks like baked or dipped and not something you can easily chipped, Nice simple classic style.', 'right beam, No tools needed to put in batteries, Has some weight behind it doesn\\'t feel \"flimsy\"', 'they are easily removable, will stay put when I ship items', 'f you do, however, need a paper receipt consisting of half a page for every shipment, then this may be a good choice, it might actually be less expensive to do multiple labels per page (using a different product) and then multiple receipts per page (using standard printer paper)', \"he ink doesn't dry out, it lasts me a long time\", 'it does have a lovely color', 'they work well and are inexpensive, The grip could be more comfortable', \"ough and ready audio tracking with 32-bit Cubase 5 on 64-bit Windows 7, The documentation is minimal and only covers up to Vista, t's accurate and you'll manage with Win7, Fortunately there's enough user-information out there for just about any setup, There were a couple of hiccups during setup\", 'On a pedal steel you can bend notes with the pedals and levers, I play standing up and manipulating the volume pedal was difficult to control because of balancing on one foot and the sensitivity of some of the pedals., This pedal gives a simulation of the volume swells that give steel guitar that distinctive sound', \"It does the job with a clear, red beam, The only thing that was frustrating was that it was a push on button that released automatically when the pressure was taken off, aving it turned on without an operator holding it may be a hazard so I'm sure it is a safety feature\", 'ery solid build', 'Base is heavy and sturdy, The action on the height adjust was a little finicky, I do kind of wish there was a lighter solution to keeping it stable with a heavy mic mounted on an angle', 'adjust easil for most any amplifier height yet stable enough for on stage recoding, Stable base, good extension, easy hand grip to lock/unlock for adjusting', 'elatively robust for its compact size, Opens easily, folds up to a fairly small footprint for storage/transport, it cradles the guitar nicely, the git leans back a bit more than I would like, Makes it more difficult to hug a wall, ends up taking more 3D space than it really needs, the two footer bars are not quite level with each other, so it rocks just a little bit', 'Works perfectly for both my Martin dreadnought and my Fender Stratocaster, Solid unit, good material and construction']\n",
      "[', but a good size for small hands, The voice is plenty loud and', ', the platform surface feels good on my bare feet, giving them a massage', ', Raises your feet off the ground which makes you sit straighter in', ', write smooth without skipping', ', The envelope seals securely and provides a great deal of security, this will', ', The glue goes all the way to the edge of the envelope, and', ', the glue seems to seal the envelope well and keep it sealed, The', ', The disk that comes with the printer is easy breezy to create address', \", seems to be a nice program (although I haven't used it yet\", ', The color is more like an orangey (if there such a word', 'Bright beam, No tools needed to put in batteries, Seems to be good', ', probably not, but they are easily removable & I prefer something that I', ', do you really need a paper receipt for every label,  This is', ', it works, it prints, it lasts me a long time, and', ', it does have a lovely color -- rather a greenish/brown rather', ', but they work well and are inexpensive', ', rough and ready audio tracking with 32-bit Cubase 5 on 64', ', the volume pedal was difficult to control because of balancing on one foot and', ', red beam does the job with a clear, red light, no pressure', ', never felt cheap in any way, never got any worse, never looked', \"Base is heavy and sturdy so your mics won't topple over, the\", ', easy hand grip to lock/unlock for adjusting, good extension;', ', Opens easily and folds up to a fairly small footprint for storage/', 'Works perfectly for both my Martin dreadnought and my Fender Stratoc']\n"
     ]
    },
    {
     "data": {
      "application/vnd.jupyter.widget-view+json": {
       "model_id": "82d6c01ee3bc4c9cba04dafd52f27ea0",
       "version_major": 2,
       "version_minor": 0
      },
      "text/plain": [
       "Running Epoch 7 of 10:   0%|          | 0/3 [00:00<?, ?it/s]"
      ]
     },
     "metadata": {},
     "output_type": "display_data"
    },
    {
     "data": {
      "application/vnd.jupyter.widget-view+json": {
       "model_id": "49fbb55283a7465ebf813ab88a79772f",
       "version_major": 2,
       "version_minor": 0
      },
      "text/plain": [
       "  0%|          | 0/24 [00:00<?, ?it/s]"
      ]
     },
     "metadata": {},
     "output_type": "display_data"
    },
    {
     "data": {
      "application/vnd.jupyter.widget-view+json": {
       "model_id": "46109e37ac42444683f34d8f694874ac",
       "version_major": 2,
       "version_minor": 0
      },
      "text/plain": [
       "Generating outputs:   0%|          | 0/3 [00:00<?, ?it/s]"
      ]
     },
     "metadata": {},
     "output_type": "display_data"
    },
    {
     "name": "stdout",
     "output_type": "stream",
     "text": [
      "[\"It's small, but a good size for small hands, Sometimes the voice is hard to understand and the word has to be repeated a few times until it's understood, the Spelling Bee is very useful, The screen is a throwback to the nineties with no color, it's not loaded with words and their definitions, has an automatic shut-off after being left on and unused for about 3 minutes, The voice is plenty loud and the level can be adjusted, The games are o.k\", \"My rocker's motion is smooth and fluid with nary a squeak or creak to disturb the peace, the platform surface feels good on my bare feet, giving them a massage while I'm rocking, Since I do prefer to go barefoot especially in the warmer weather, I appreciate the Microban antimicrobial protection that the rocker provides, it seems to stay put just fine, t's lightweight and maneuverable, ssembly shouldn't be an issue, it does provide some benefits such as improved circulation and is certainly preferable to just sitting there stock still while working at the compute\", \"Raises your feet off the ground which makes you sit straighter in your seat making your back feel better., Puts less stress and pressure on my legs too., I don't really rock with it but it does seem to provide relief from pressure in my legs when I do, if you suffer from leg and back fatigue while sitting at your desk, it would help\", 'They write smooth without skipping', 'The envelope seals securely', \"The glue goes all the way to the edge of the envelope, and it stays secure until it gets to its recipient, you can't see through these envelopes to see the contents, envelopes hang up in my HP Photosmart ink jet printer, When it does go through the printer without hanging, the ink is still smeared\", 'The glue seems to seal the envelope well and keep it sealed, the glue seems to want to hold the flap down prior to use, y concern would be that with time, the flaps might actually seal open and thus be unusable., have a security feature to allow you to mail checks without risk that the contents of the envelope can be read, cannot be held up to the light and the contents read through the paper, the paper from which the envelopes are made is high quality, thick paper', 'The latest software synchronizes with your Outlook Contacts so it is \"easy breezy\" to create address labels for those who are in your Outlook address book, The disk that comes with the printer installs the software (addressing & stamps) but does NOT install the drive', \"rints pretty quickly (regardless of quality of the printjob, Dymo stamps seems to be a nice program, It takes up A LOT of space on my desk, ams A LOT!, The software is A PAIN TO INSTALL, The LabelDesigner program doesn't know what PROPORTIONS are!\", 'Paint looks like baked or dipped and not something you can easily chipped, Nice simple classic style.', 'right beam, No tools needed to put in batteries, Has some weight behind it doesn\\'t feel \"flimsy\"', 'they are easily removable, will stay put when I ship items', 'f you do, however, need a paper receipt consisting of half a page for every shipment, then this may be a good choice, it might actually be less expensive to do multiple labels per page (using a different product) and then multiple receipts per page (using standard printer paper)', \"he ink doesn't dry out, it lasts me a long time\", 'it does have a lovely color', 'they work well and are inexpensive, The grip could be more comfortable', \"ough and ready audio tracking with 32-bit Cubase 5 on 64-bit Windows 7, The documentation is minimal and only covers up to Vista, t's accurate and you'll manage with Win7, Fortunately there's enough user-information out there for just about any setup, There were a couple of hiccups during setup\", 'On a pedal steel you can bend notes with the pedals and levers, I play standing up and manipulating the volume pedal was difficult to control because of balancing on one foot and the sensitivity of some of the pedals., This pedal gives a simulation of the volume swells that give steel guitar that distinctive sound', \"It does the job with a clear, red beam, The only thing that was frustrating was that it was a push on button that released automatically when the pressure was taken off, aving it turned on without an operator holding it may be a hazard so I'm sure it is a safety feature\", 'ery solid build', 'Base is heavy and sturdy, The action on the height adjust was a little finicky, I do kind of wish there was a lighter solution to keeping it stable with a heavy mic mounted on an angle', 'adjust easil for most any amplifier height yet stable enough for on stage recoding, Stable base, good extension, easy hand grip to lock/unlock for adjusting', 'elatively robust for its compact size, Opens easily, folds up to a fairly small footprint for storage/transport, it cradles the guitar nicely, the git leans back a bit more than I would like, Makes it more difficult to hug a wall, ends up taking more 3D space than it really needs, the two footer bars are not quite level with each other, so it rocks just a little bit', 'Works perfectly for both my Martin dreadnought and my Fender Stratocaster, Solid unit, good material and construction']\n",
      "[\"It's small, but a good size for small hands, The voice is\", ', the platform surface feels good on my bare feet, giving them a massage', ', Raises your feet off the ground which makes you sit straighter in', ', write smooth without skipping, write like gel pens, write well, are', ', The envelope seals securely and provides a great deal of security, this will', ', The glue goes all the way to the edge of the envelope, and', ', the glue seems to seal the envelope well and keep it sealed, The', 'handle with your Outlook Contacts so it is \"easy breezy\" to', 'printed pretty quickly (regardless of quality of the printjob....see con', ', The color is more like an orangey (if there such a word', 'Bright beam, No tools needed to put in batteries, Seems to be good', ', probably not, but they are easily removable & I prefer something that I', 'Make sure you realize that these labels include only one label per sheet (about', ', it works, it prints, it lasts me a long time, and', ', it does have a lovely color -- rather a greenish/brown rather', \", but they work well and are inexpensive, but it's a step up\", ', rough and ready audio tracking with 32-bit Cubase 5 on 64', ', the volume pedal was difficult to control because of balancing on one foot and', ', red beam does the job with a clear, red light, no pressure', ', never felt cheap in any way, never got any worse, never looked', \"Base is heavy and sturdy so your mics won't topple over, the\", ', easy hand grip to lock/unlock for adjusting, good extension;', ', Opens easily and folds up to a fairly small footprint for storage/', 'Works perfectly for both my Martin dreadnought and my Fender Stratoc']\n"
     ]
    },
    {
     "data": {
      "application/vnd.jupyter.widget-view+json": {
       "model_id": "20f21a1e6a38449db1640e84c3745d26",
       "version_major": 2,
       "version_minor": 0
      },
      "text/plain": [
       "Running Epoch 8 of 10:   0%|          | 0/3 [00:00<?, ?it/s]"
      ]
     },
     "metadata": {},
     "output_type": "display_data"
    },
    {
     "data": {
      "application/vnd.jupyter.widget-view+json": {
       "model_id": "994cc4642fef44d9ba50587452354e19",
       "version_major": 2,
       "version_minor": 0
      },
      "text/plain": [
       "  0%|          | 0/24 [00:00<?, ?it/s]"
      ]
     },
     "metadata": {},
     "output_type": "display_data"
    },
    {
     "data": {
      "application/vnd.jupyter.widget-view+json": {
       "model_id": "2ec1b137175b44c9ad9f854a4478bd1a",
       "version_major": 2,
       "version_minor": 0
      },
      "text/plain": [
       "Generating outputs:   0%|          | 0/3 [00:00<?, ?it/s]"
      ]
     },
     "metadata": {},
     "output_type": "display_data"
    },
    {
     "name": "stdout",
     "output_type": "stream",
     "text": [
      "[\"It's small, but a good size for small hands, Sometimes the voice is hard to understand and the word has to be repeated a few times until it's understood, the Spelling Bee is very useful, The screen is a throwback to the nineties with no color, it's not loaded with words and their definitions, has an automatic shut-off after being left on and unused for about 3 minutes, The voice is plenty loud and the level can be adjusted, The games are o.k\", \"My rocker's motion is smooth and fluid with nary a squeak or creak to disturb the peace, the platform surface feels good on my bare feet, giving them a massage while I'm rocking, Since I do prefer to go barefoot especially in the warmer weather, I appreciate the Microban antimicrobial protection that the rocker provides, it seems to stay put just fine, t's lightweight and maneuverable, ssembly shouldn't be an issue, it does provide some benefits such as improved circulation and is certainly preferable to just sitting there stock still while working at the compute\", \"Raises your feet off the ground which makes you sit straighter in your seat making your back feel better., Puts less stress and pressure on my legs too., I don't really rock with it but it does seem to provide relief from pressure in my legs when I do, if you suffer from leg and back fatigue while sitting at your desk, it would help\", 'They write smooth without skipping', 'The envelope seals securely', \"The glue goes all the way to the edge of the envelope, and it stays secure until it gets to its recipient, you can't see through these envelopes to see the contents, envelopes hang up in my HP Photosmart ink jet printer, When it does go through the printer without hanging, the ink is still smeared\", 'The glue seems to seal the envelope well and keep it sealed, the glue seems to want to hold the flap down prior to use, y concern would be that with time, the flaps might actually seal open and thus be unusable., have a security feature to allow you to mail checks without risk that the contents of the envelope can be read, cannot be held up to the light and the contents read through the paper, the paper from which the envelopes are made is high quality, thick paper', 'The latest software synchronizes with your Outlook Contacts so it is \"easy breezy\" to create address labels for those who are in your Outlook address book, The disk that comes with the printer installs the software (addressing & stamps) but does NOT install the drive', \"rints pretty quickly (regardless of quality of the printjob, Dymo stamps seems to be a nice program, It takes up A LOT of space on my desk, ams A LOT!, The software is A PAIN TO INSTALL, The LabelDesigner program doesn't know what PROPORTIONS are!\", 'Paint looks like baked or dipped and not something you can easily chipped, Nice simple classic style.', 'right beam, No tools needed to put in batteries, Has some weight behind it doesn\\'t feel \"flimsy\"', 'they are easily removable, will stay put when I ship items', 'f you do, however, need a paper receipt consisting of half a page for every shipment, then this may be a good choice, it might actually be less expensive to do multiple labels per page (using a different product) and then multiple receipts per page (using standard printer paper)', \"he ink doesn't dry out, it lasts me a long time\", 'it does have a lovely color', 'they work well and are inexpensive, The grip could be more comfortable', \"ough and ready audio tracking with 32-bit Cubase 5 on 64-bit Windows 7, The documentation is minimal and only covers up to Vista, t's accurate and you'll manage with Win7, Fortunately there's enough user-information out there for just about any setup, There were a couple of hiccups during setup\", 'On a pedal steel you can bend notes with the pedals and levers, I play standing up and manipulating the volume pedal was difficult to control because of balancing on one foot and the sensitivity of some of the pedals., This pedal gives a simulation of the volume swells that give steel guitar that distinctive sound', \"It does the job with a clear, red beam, The only thing that was frustrating was that it was a push on button that released automatically when the pressure was taken off, aving it turned on without an operator holding it may be a hazard so I'm sure it is a safety feature\", 'ery solid build', 'Base is heavy and sturdy, The action on the height adjust was a little finicky, I do kind of wish there was a lighter solution to keeping it stable with a heavy mic mounted on an angle', 'adjust easil for most any amplifier height yet stable enough for on stage recoding, Stable base, good extension, easy hand grip to lock/unlock for adjusting', 'elatively robust for its compact size, Opens easily, folds up to a fairly small footprint for storage/transport, it cradles the guitar nicely, the git leans back a bit more than I would like, Makes it more difficult to hug a wall, ends up taking more 3D space than it really needs, the two footer bars are not quite level with each other, so it rocks just a little bit', 'Works perfectly for both my Martin dreadnought and my Fender Stratocaster, Solid unit, good material and construction']\n",
      "[\"It's small, but a good size for small hands, The voice is\", ', the platform surface feels good on my bare feet, giving them a massage', 'makes your feet off the ground which makes you sit straighter in your seat', ', write smooth without skipping, write like gel pens, write well, write', ', The envelope seals securely and provides a great deal of security, this will', ', The glue goes all the way to the edge of the envelope, and', ', the glue seems to seal the envelope well and keep it sealed, The', 'handle with your Outlook Contacts so it is \"easy breezy\" to', 'printed pretty quickly (regardless of quality of the printjob....see con', ', The color is more like an orangey (if there such a word', 'Bright beam, No tools needed to put in batteries, Seems to be good', ', probably not, but they are easily removable & I prefer something that I', 'Make sure you realize that these labels include only one label per sheet (about', ', it works, it prints, it lasts me a long time, and', ', it does have a lovely color -- rather a greenish/brown rather', \", but they work well and are inexpensive, but it's a step up\", ', rough and ready audio tracking with 32-bit Cubase 5 on 64', ', the volume pedal was difficult to control because of balancing on one foot and', ', red beam does the job with a clear, red light, no pressure', ', never felt cheap in any way, never got any worse, never looked', \"Base is heavy and sturdy so your mics won't topple over, the\", ', easy hand grip to lock/unlock for adjusting, good extension;', ', Opens easily and folds up to a fairly small footprint for storage/', 'Works perfectly for both my Martin dreadnought and my Fender Stratoc']\n"
     ]
    },
    {
     "data": {
      "application/vnd.jupyter.widget-view+json": {
       "model_id": "75436f7011fd4d50806da9620bb7d1c9",
       "version_major": 2,
       "version_minor": 0
      },
      "text/plain": [
       "Running Epoch 9 of 10:   0%|          | 0/3 [00:00<?, ?it/s]"
      ]
     },
     "metadata": {},
     "output_type": "display_data"
    },
    {
     "data": {
      "application/vnd.jupyter.widget-view+json": {
       "model_id": "6e2a2b08900e47269d55ef0ae1f52bd4",
       "version_major": 2,
       "version_minor": 0
      },
      "text/plain": [
       "  0%|          | 0/24 [00:00<?, ?it/s]"
      ]
     },
     "metadata": {},
     "output_type": "display_data"
    },
    {
     "data": {
      "application/vnd.jupyter.widget-view+json": {
       "model_id": "ce1315a428924da9965e8d7987ebc3df",
       "version_major": 2,
       "version_minor": 0
      },
      "text/plain": [
       "Generating outputs:   0%|          | 0/3 [00:00<?, ?it/s]"
      ]
     },
     "metadata": {},
     "output_type": "display_data"
    },
    {
     "name": "stdout",
     "output_type": "stream",
     "text": [
      "[\"It's small, but a good size for small hands, Sometimes the voice is hard to understand and the word has to be repeated a few times until it's understood, the Spelling Bee is very useful, The screen is a throwback to the nineties with no color, it's not loaded with words and their definitions, has an automatic shut-off after being left on and unused for about 3 minutes, The voice is plenty loud and the level can be adjusted, The games are o.k\", \"My rocker's motion is smooth and fluid with nary a squeak or creak to disturb the peace, the platform surface feels good on my bare feet, giving them a massage while I'm rocking, Since I do prefer to go barefoot especially in the warmer weather, I appreciate the Microban antimicrobial protection that the rocker provides, it seems to stay put just fine, t's lightweight and maneuverable, ssembly shouldn't be an issue, it does provide some benefits such as improved circulation and is certainly preferable to just sitting there stock still while working at the compute\", \"Raises your feet off the ground which makes you sit straighter in your seat making your back feel better., Puts less stress and pressure on my legs too., I don't really rock with it but it does seem to provide relief from pressure in my legs when I do, if you suffer from leg and back fatigue while sitting at your desk, it would help\", 'They write smooth without skipping', 'The envelope seals securely', \"The glue goes all the way to the edge of the envelope, and it stays secure until it gets to its recipient, you can't see through these envelopes to see the contents, envelopes hang up in my HP Photosmart ink jet printer, When it does go through the printer without hanging, the ink is still smeared\", 'The glue seems to seal the envelope well and keep it sealed, the glue seems to want to hold the flap down prior to use, y concern would be that with time, the flaps might actually seal open and thus be unusable., have a security feature to allow you to mail checks without risk that the contents of the envelope can be read, cannot be held up to the light and the contents read through the paper, the paper from which the envelopes are made is high quality, thick paper', 'The latest software synchronizes with your Outlook Contacts so it is \"easy breezy\" to create address labels for those who are in your Outlook address book, The disk that comes with the printer installs the software (addressing & stamps) but does NOT install the drive', \"rints pretty quickly (regardless of quality of the printjob, Dymo stamps seems to be a nice program, It takes up A LOT of space on my desk, ams A LOT!, The software is A PAIN TO INSTALL, The LabelDesigner program doesn't know what PROPORTIONS are!\", 'Paint looks like baked or dipped and not something you can easily chipped, Nice simple classic style.', 'right beam, No tools needed to put in batteries, Has some weight behind it doesn\\'t feel \"flimsy\"', 'they are easily removable, will stay put when I ship items', 'f you do, however, need a paper receipt consisting of half a page for every shipment, then this may be a good choice, it might actually be less expensive to do multiple labels per page (using a different product) and then multiple receipts per page (using standard printer paper)', \"he ink doesn't dry out, it lasts me a long time\", 'it does have a lovely color', 'they work well and are inexpensive, The grip could be more comfortable', \"ough and ready audio tracking with 32-bit Cubase 5 on 64-bit Windows 7, The documentation is minimal and only covers up to Vista, t's accurate and you'll manage with Win7, Fortunately there's enough user-information out there for just about any setup, There were a couple of hiccups during setup\", 'On a pedal steel you can bend notes with the pedals and levers, I play standing up and manipulating the volume pedal was difficult to control because of balancing on one foot and the sensitivity of some of the pedals., This pedal gives a simulation of the volume swells that give steel guitar that distinctive sound', \"It does the job with a clear, red beam, The only thing that was frustrating was that it was a push on button that released automatically when the pressure was taken off, aving it turned on without an operator holding it may be a hazard so I'm sure it is a safety feature\", 'ery solid build', 'Base is heavy and sturdy, The action on the height adjust was a little finicky, I do kind of wish there was a lighter solution to keeping it stable with a heavy mic mounted on an angle', 'adjust easil for most any amplifier height yet stable enough for on stage recoding, Stable base, good extension, easy hand grip to lock/unlock for adjusting', 'elatively robust for its compact size, Opens easily, folds up to a fairly small footprint for storage/transport, it cradles the guitar nicely, the git leans back a bit more than I would like, Makes it more difficult to hug a wall, ends up taking more 3D space than it really needs, the two footer bars are not quite level with each other, so it rocks just a little bit', 'Works perfectly for both my Martin dreadnought and my Fender Stratocaster, Solid unit, good material and construction']\n",
      "[\"It's small, but a good size for small hands, The voice is\", ', the platform surface feels good on my bare feet, giving them a massage', 'makes your feet off the ground which makes you sit straighter in your seat', ', write smooth without skipping, write like gel pens, write well, write', ', The envelope seals securely and provides a great deal of security, this will', ', The glue goes all the way to the edge of the envelope, and', ', the glue seems to seal the envelope well and keep it sealed, The', 'handle with your Outlook Contacts so it is \"easy breezy\" to', 'printed pretty quickly (regardless of quality of the printjob....see con', ', The color is more like an orangey (if there such a word', 'Bright beam, No tools needed to put in batteries, Seems to be good', ', probably not, but they are easily removable & I prefer something that I', 'Make sure you realize that these labels include only one label per sheet (about', ', it works, it prints, it lasts me a long time, and', ', it does have a lovely color -- rather a greenish/brown rather', \", but they work well and are inexpensive, but it's a step up\", ', rough and ready audio tracking with 32-bit Cubase 5 on 64', ', the volume pedal was difficult to control because of balancing on one foot and', ', red beam does the job with a clear, red light, no pressure', ', never felt cheap in any way, never got any worse, never looked', \"Base is heavy and sturdy so your mics won't topple over, the\", ', easy hand grip to lock/unlock for adjusting, good extension;', ', Opens easily and folds up to a fairly small footprint for storage/', 'Works perfectly for both my Martin dreadnought and my Fender Stratoc']\n"
     ]
    },
    {
     "data": {
      "application/vnd.jupyter.widget-view+json": {
       "model_id": "32a0f7274a4f4afaba2b4b6b956c8b17",
       "version_major": 2,
       "version_minor": 0
      },
      "text/plain": [
       "  0%|          | 0/24 [00:00<?, ?it/s]"
      ]
     },
     "metadata": {},
     "output_type": "display_data"
    },
    {
     "data": {
      "application/vnd.jupyter.widget-view+json": {
       "model_id": "622dc4a672e64e00a8329663961af4da",
       "version_major": 2,
       "version_minor": 0
      },
      "text/plain": [
       "Running Evaluation:   0%|          | 0/3 [00:00<?, ?it/s]"
      ]
     },
     "metadata": {},
     "output_type": "display_data"
    },
    {
     "data": {
      "application/vnd.jupyter.widget-view+json": {
       "model_id": "596fe273c010486a8514fb8c43bdc5cf",
       "version_major": 2,
       "version_minor": 0
      },
      "text/plain": [
       "Generating outputs:   0%|          | 0/3 [00:00<?, ?it/s]"
      ]
     },
     "metadata": {},
     "output_type": "display_data"
    }
   ],
   "source": [
    "# Train the model\n",
    "model.train_model(\n",
    "    train_df, eval_data=eval_df, matches=count_matches,\n",
    ")\n",
    "\n",
    "# # Evaluate the model\n",
    "results = model.eval_model(eval_df)"
   ]
  },
  {
   "cell_type": "code",
   "execution_count": 57,
   "id": "9b752129",
   "metadata": {},
   "outputs": [
    {
     "data": {
      "application/vnd.jupyter.widget-view+json": {
       "model_id": "7d9c14eb107c42d2afe350ae6fed7b4c",
       "version_major": 2,
       "version_minor": 0
      },
      "text/plain": [
       "Generating outputs:   0%|          | 0/1 [00:00<?, ?it/s]"
      ]
     },
     "metadata": {},
     "output_type": "display_data"
    },
    {
     "data": {
      "text/plain": [
       "['Works perfectly for both my Martin dreadnought and my Fender Stratoc']"
      ]
     },
     "execution_count": 57,
     "metadata": {},
     "output_type": "execute_result"
    }
   ],
   "source": [
    "model.predict([df_new2['input_text'].iloc[101]])"
   ]
  },
  {
   "cell_type": "code",
   "execution_count": 55,
   "id": "32056e41",
   "metadata": {},
   "outputs": [
    {
     "data": {
      "text/plain": [
       "'Works perfectly for both my Martin dreadnought and my Fender Stratocaster.  Solid unit, good material and construction, though it is made in China apparently--but hey thats why its such a bargain!'"
      ]
     },
     "execution_count": 55,
     "metadata": {},
     "output_type": "execute_result"
    }
   ],
   "source": [
    "df_new2['input_text'].iloc[101]"
   ]
  },
  {
   "cell_type": "code",
   "execution_count": 59,
   "id": "abbdc9b4",
   "metadata": {},
   "outputs": [
    {
     "data": {
      "text/plain": [
       "'Works perfectly for both my Martin dreadnought and my Fender Stratocaster, Solid unit, good material and construction'"
      ]
     },
     "execution_count": 59,
     "metadata": {},
     "output_type": "execute_result"
    }
   ],
   "source": [
    "df_new2['target_text'].iloc[101]"
   ]
  }
 ],
 "metadata": {
  "kernelspec": {
   "display_name": "Python 3 (ipykernel)",
   "language": "python",
   "name": "python3"
  },
  "language_info": {
   "codemirror_mode": {
    "name": "ipython",
    "version": 3
   },
   "file_extension": ".py",
   "mimetype": "text/x-python",
   "name": "python",
   "nbconvert_exporter": "python",
   "pygments_lexer": "ipython3",
   "version": "3.8.9"
  }
 },
 "nbformat": 4,
 "nbformat_minor": 5
}
